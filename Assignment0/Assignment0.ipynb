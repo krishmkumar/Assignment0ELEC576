{
 "cells": [
  {
   "cell_type": "markdown",
   "id": "90605b993d226e14",
   "metadata": {},
   "source": [
    "## Assignment 0 IPYNB"
   ]
  },
  {
   "cell_type": "markdown",
   "id": "8b2f71fe8d39b8a",
   "metadata": {},
   "source": [
    "## TASK 2"
   ]
  },
  {
   "cell_type": "code",
   "execution_count": null,
   "id": "c3ca2d7ec366701",
   "metadata": {
    "ExecuteTime": {
     "end_time": "2025-09-16T04:37:57.565002Z",
     "start_time": "2025-09-16T04:37:57.557315Z"
    }
   },
   "outputs": [],
   "source": [
    "import numpy as np\n",
    "import scipy.linalg\n",
    "import matplotlib.pyplot as plt\n",
    "from scipy import io, integrate, linalg, signal\n",
    "from scipy.sparse.linalg import cg, eigs\n",
    "\n",
    "a = np.arange(1, 61).reshape(10, 6)\n",
    "b = np.arange(61, 121).reshape(10, 6)\n",
    "c = np.array([[1., 2.], [3., 4.]])\n",
    "d = np.array([[5., 6.], [7., 8.]])\n",
    "v = np.array([0.2, 0.7, 0.9, 0.1, 0.55, 0.8])\n",
    "v_col = v[:, np.newaxis]\n",
    "I3 = np.eye(3)\n",
    "diag_vec = np.array([1., 2., 3.])\n",
    "rng = np.random.default_rng(42)\n",
    "A2 = np.array([[3., 1.], [1., 2.]])\n",
    "Z = np.random.rand(10, 3)   # 10x3\n",
    "y = np.random.rand(10)"
   ]
  },
  {
   "cell_type": "code",
   "execution_count": null,
   "id": "6c9e15b41b6611db",
   "metadata": {
    "ExecuteTime": {
     "end_time": "2025-09-16T04:37:57.579359Z",
     "start_time": "2025-09-16T04:37:57.576458Z"
    }
   },
   "outputs": [],
   "source": [
    "np.ndim ( a )"
   ]
  },
  {
   "cell_type": "code",
   "execution_count": null,
   "id": "45f043d1908d01f4",
   "metadata": {
    "ExecuteTime": {
     "end_time": "2025-09-16T04:37:57.601828Z",
     "start_time": "2025-09-16T04:37:57.599568Z"
    }
   },
   "outputs": [],
   "source": [
    "np.size ( a )"
   ]
  },
  {
   "cell_type": "code",
   "execution_count": null,
   "id": "7ad2deff426895d",
   "metadata": {
    "ExecuteTime": {
     "end_time": "2025-09-16T04:37:57.616854Z",
     "start_time": "2025-09-16T04:37:57.614791Z"
    }
   },
   "outputs": [],
   "source": [
    "a.shape"
   ]
  },
  {
   "cell_type": "code",
   "execution_count": null,
   "id": "2268abd56c544958",
   "metadata": {
    "ExecuteTime": {
     "end_time": "2025-09-16T04:37:57.636250Z",
     "start_time": "2025-09-16T04:37:57.633999Z"
    }
   },
   "outputs": [],
   "source": [
    "a.shape[1]"
   ]
  },
  {
   "cell_type": "code",
   "execution_count": null,
   "id": "bb8121453df71198",
   "metadata": {
    "ExecuteTime": {
     "end_time": "2025-09-16T04:37:57.652591Z",
     "start_time": "2025-09-16T04:37:57.649468Z"
    }
   },
   "outputs": [],
   "source": [
    "np . array ([[1. ,2. ,3.] ,[4. ,5. ,6.]])"
   ]
  },
  {
   "cell_type": "code",
   "execution_count": null,
   "id": "b1849db58e919e18",
   "metadata": {
    "ExecuteTime": {
     "end_time": "2025-09-16T04:37:57.727979Z",
     "start_time": "2025-09-16T04:37:57.725384Z"
    }
   },
   "outputs": [],
   "source": [
    "np . block ([[ c , d ] ,[d , c ]])"
   ]
  },
  {
   "cell_type": "code",
   "execution_count": null,
   "id": "fa3876c99ade0d8b",
   "metadata": {
    "ExecuteTime": {
     "end_time": "2025-09-16T04:37:57.961390Z",
     "start_time": "2025-09-16T04:37:57.959616Z"
    }
   },
   "outputs": [],
   "source": [
    "a [ -1]"
   ]
  },
  {
   "cell_type": "code",
   "execution_count": null,
   "id": "9b43fe2cc286b67",
   "metadata": {
    "ExecuteTime": {
     "end_time": "2025-09-16T04:37:57.969Z",
     "start_time": "2025-09-16T04:37:57.967130Z"
    }
   },
   "outputs": [],
   "source": [
    "a [1 ,4]"
   ]
  },
  {
   "cell_type": "code",
   "execution_count": null,
   "id": "d50953ba7dee1802",
   "metadata": {
    "ExecuteTime": {
     "end_time": "2025-09-16T04:37:58.002101Z",
     "start_time": "2025-09-16T04:37:57.999747Z"
    }
   },
   "outputs": [],
   "source": [
    "a [1 ,:]"
   ]
  },
  {
   "cell_type": "code",
   "execution_count": null,
   "id": "8f1f3857afbddfef",
   "metadata": {
    "ExecuteTime": {
     "end_time": "2025-09-16T04:37:58.028263Z",
     "start_time": "2025-09-16T04:37:58.026456Z"
    }
   },
   "outputs": [],
   "source": [
    "a [:5 ,:]"
   ]
  },
  {
   "cell_type": "code",
   "execution_count": null,
   "id": "7b2d464b64e777a8",
   "metadata": {
    "ExecuteTime": {
     "end_time": "2025-09-16T04:37:58.072518Z",
     "start_time": "2025-09-16T04:37:58.070803Z"
    }
   },
   "outputs": [],
   "source": [
    "a[-5:]"
   ]
  },
  {
   "cell_type": "code",
   "execution_count": null,
   "id": "1a4993179aafced5",
   "metadata": {
    "ExecuteTime": {
     "end_time": "2025-09-16T04:37:58.207634Z",
     "start_time": "2025-09-16T04:37:58.205859Z"
    }
   },
   "outputs": [],
   "source": [
    "a[0:3,4:9]"
   ]
  },
  {
   "cell_type": "code",
   "execution_count": null,
   "id": "6cd4624168fe7a74",
   "metadata": {
    "ExecuteTime": {
     "end_time": "2025-09-16T04:37:58.330306Z",
     "start_time": "2025-09-16T04:37:58.328372Z"
    }
   },
   "outputs": [],
   "source": [
    "a[np.ix_([1, 3, 4], [0, 2])]"
   ]
  },
  {
   "cell_type": "code",
   "execution_count": null,
   "id": "299f12fda6ff1ee7",
   "metadata": {
    "ExecuteTime": {
     "end_time": "2025-09-16T04:37:58.429717Z",
     "start_time": "2025-09-16T04:37:58.427006Z"
    }
   },
   "outputs": [],
   "source": [
    "a[2:21:2,:]"
   ]
  },
  {
   "cell_type": "code",
   "execution_count": null,
   "id": "acd9fb27a0ac590d",
   "metadata": {
    "ExecuteTime": {
     "end_time": "2025-09-16T04:37:58.570755Z",
     "start_time": "2025-09-16T04:37:58.569030Z"
    }
   },
   "outputs": [],
   "source": [
    "a[::2, :]"
   ]
  },
  {
   "cell_type": "code",
   "execution_count": null,
   "id": "e09a05b775e3d64f",
   "metadata": {
    "ExecuteTime": {
     "end_time": "2025-09-16T04:37:58.676996Z",
     "start_time": "2025-09-16T04:37:58.675161Z"
    }
   },
   "outputs": [],
   "source": [
    "a[::-1,:]"
   ]
  },
  {
   "cell_type": "code",
   "execution_count": null,
   "id": "82e0a5150e567108",
   "metadata": {
    "ExecuteTime": {
     "end_time": "2025-09-16T04:37:58.790845Z",
     "start_time": "2025-09-16T04:37:58.789043Z"
    }
   },
   "outputs": [],
   "source": [
    "a[np.r_[:len(a),0]]"
   ]
  },
  {
   "cell_type": "code",
   "execution_count": null,
   "id": "ded719cc8df67a1a",
   "metadata": {
    "ExecuteTime": {
     "end_time": "2025-09-16T04:37:58.857934Z",
     "start_time": "2025-09-16T04:37:58.855982Z"
    }
   },
   "outputs": [],
   "source": [
    "a.transpose()"
   ]
  },
  {
   "cell_type": "code",
   "execution_count": null,
   "id": "4b815852f13a241b",
   "metadata": {
    "ExecuteTime": {
     "end_time": "2025-09-16T04:37:58.987300Z",
     "start_time": "2025-09-16T04:37:58.985446Z"
    }
   },
   "outputs": [],
   "source": [
    "a.conj().transpose()"
   ]
  },
  {
   "cell_type": "code",
   "execution_count": null,
   "id": "cc417d765c7963b3",
   "metadata": {
    "ExecuteTime": {
     "end_time": "2025-09-16T04:37:59.095014Z",
     "start_time": "2025-09-16T04:37:59.093015Z"
    }
   },
   "outputs": [],
   "source": [
    "a @ b.T\n"
   ]
  },
  {
   "cell_type": "code",
   "execution_count": null,
   "id": "40e966a773690419",
   "metadata": {
    "ExecuteTime": {
     "end_time": "2025-09-16T04:37:59.162467Z",
     "start_time": "2025-09-16T04:37:59.160407Z"
    }
   },
   "outputs": [],
   "source": [
    "a * b"
   ]
  },
  {
   "cell_type": "code",
   "execution_count": null,
   "id": "eea24a6d128f8fd4",
   "metadata": {
    "ExecuteTime": {
     "end_time": "2025-09-16T04:37:59.276744Z",
     "start_time": "2025-09-16T04:37:59.274595Z"
    }
   },
   "outputs": [],
   "source": [
    "a/b"
   ]
  },
  {
   "cell_type": "code",
   "execution_count": null,
   "id": "874c90198f6aa32a",
   "metadata": {
    "ExecuteTime": {
     "end_time": "2025-09-16T04:37:59.376580Z",
     "start_time": "2025-09-16T04:37:59.374717Z"
    }
   },
   "outputs": [],
   "source": [
    "a**3"
   ]
  },
  {
   "cell_type": "code",
   "execution_count": null,
   "id": "d1e1fa639b4071f7",
   "metadata": {
    "ExecuteTime": {
     "end_time": "2025-09-16T04:37:59.450871Z",
     "start_time": "2025-09-16T04:37:59.448734Z"
    }
   },
   "outputs": [],
   "source": [
    "(a>0.5)"
   ]
  },
  {
   "cell_type": "code",
   "execution_count": null,
   "id": "978ce266f66c57ae",
   "metadata": {
    "ExecuteTime": {
     "end_time": "2025-09-16T04:37:59.544355Z",
     "start_time": "2025-09-16T04:37:59.542373Z"
    }
   },
   "outputs": [],
   "source": [
    "np.nonzero(a > 0.5)"
   ]
  },
  {
   "cell_type": "code",
   "execution_count": null,
   "id": "407d8f16ed98d14a",
   "metadata": {
    "ExecuteTime": {
     "end_time": "2025-09-16T04:37:59.604275Z",
     "start_time": "2025-09-16T04:37:59.602415Z"
    }
   },
   "outputs": [],
   "source": [
    "a[:,np.nonzero(v > 0.5)[0]]"
   ]
  },
  {
   "cell_type": "code",
   "execution_count": null,
   "id": "d6ea4d0dcb1cc35d",
   "metadata": {
    "ExecuteTime": {
     "end_time": "2025-09-16T04:37:59.671438Z",
     "start_time": "2025-09-16T04:37:59.669621Z"
    }
   },
   "outputs": [],
   "source": [
    "a[:, v.T > 0.5]"
   ]
  },
  {
   "cell_type": "code",
   "execution_count": null,
   "id": "d4ee066fea3322f4",
   "metadata": {
    "ExecuteTime": {
     "end_time": "2025-09-16T04:37:59.783064Z",
     "start_time": "2025-09-16T04:37:59.781342Z"
    }
   },
   "outputs": [],
   "source": [
    "a[a < 0.5]=0"
   ]
  },
  {
   "cell_type": "code",
   "execution_count": null,
   "id": "352df721e36dd0b6",
   "metadata": {
    "ExecuteTime": {
     "end_time": "2025-09-16T04:37:59.834955Z",
     "start_time": "2025-09-16T04:37:59.832872Z"
    }
   },
   "outputs": [],
   "source": [
    "a * (a > 0.5)"
   ]
  },
  {
   "cell_type": "code",
   "execution_count": null,
   "id": "e1324376b653e226",
   "metadata": {
    "ExecuteTime": {
     "end_time": "2025-09-16T04:37:59.883197Z",
     "start_time": "2025-09-16T04:37:59.881664Z"
    }
   },
   "outputs": [],
   "source": [
    "a[:] = 3"
   ]
  },
  {
   "cell_type": "code",
   "execution_count": null,
   "id": "c750103c3a0b0801",
   "metadata": {
    "ExecuteTime": {
     "end_time": "2025-09-16T04:37:59.944624Z",
     "start_time": "2025-09-16T04:37:59.942692Z"
    }
   },
   "outputs": [],
   "source": [
    "x = np.arange(1, 13).reshape(3, 4)\n",
    "y = x.copy()\n",
    "print(x)\n",
    "print(y)"
   ]
  },
  {
   "cell_type": "code",
   "execution_count": null,
   "id": "412064cd4e33adc4",
   "metadata": {
    "ExecuteTime": {
     "end_time": "2025-09-16T04:38:00.014480Z",
     "start_time": "2025-09-16T04:38:00.011411Z"
    }
   },
   "outputs": [],
   "source": [
    "y = x[1, :].copy()\n",
    "y"
   ]
  },
  {
   "cell_type": "code",
   "execution_count": null,
   "id": "5f4171e40bd6ddb9",
   "metadata": {
    "ExecuteTime": {
     "end_time": "2025-09-16T04:38:00.107081Z",
     "start_time": "2025-09-16T04:38:00.103645Z"
    }
   },
   "outputs": [],
   "source": [
    "y = x.flatten()\n",
    "y"
   ]
  },
  {
   "cell_type": "code",
   "execution_count": null,
   "id": "76aa599dae26c65f",
   "metadata": {
    "ExecuteTime": {
     "end_time": "2025-09-16T04:38:00.152676Z",
     "start_time": "2025-09-16T04:38:00.150332Z"
    }
   },
   "outputs": [],
   "source": [
    "np.arange(1., 11.)"
   ]
  },
  {
   "cell_type": "code",
   "execution_count": null,
   "id": "5dcf64d5cf5b2e7c",
   "metadata": {
    "ExecuteTime": {
     "end_time": "2025-09-16T04:38:00.180287Z",
     "start_time": "2025-09-16T04:38:00.177380Z"
    }
   },
   "outputs": [],
   "source": [
    "np.r_[1.:11.]"
   ]
  },
  {
   "cell_type": "code",
   "execution_count": null,
   "id": "1d10d954e4e6770b",
   "metadata": {
    "ExecuteTime": {
     "end_time": "2025-09-16T04:38:00.197397Z",
     "start_time": "2025-09-16T04:38:00.195209Z"
    }
   },
   "outputs": [],
   "source": [
    "np.r_[1:10:10j]"
   ]
  },
  {
   "cell_type": "code",
   "execution_count": null,
   "id": "7009133dbd822c19",
   "metadata": {
    "ExecuteTime": {
     "end_time": "2025-09-16T04:38:00.213489Z",
     "start_time": "2025-09-16T04:38:00.210991Z"
    }
   },
   "outputs": [],
   "source": [
    "np.arange(10.)"
   ]
  },
  {
   "cell_type": "code",
   "execution_count": null,
   "id": "3b2e67b926d25468",
   "metadata": {
    "ExecuteTime": {
     "end_time": "2025-09-16T04:38:00.229985Z",
     "start_time": "2025-09-16T04:38:00.227398Z"
    }
   },
   "outputs": [],
   "source": [
    "np.r_[:10.]"
   ]
  },
  {
   "cell_type": "code",
   "execution_count": null,
   "id": "1d5e4a82866238b3",
   "metadata": {
    "ExecuteTime": {
     "end_time": "2025-09-16T04:38:00.245761Z",
     "start_time": "2025-09-16T04:38:00.243269Z"
    }
   },
   "outputs": [],
   "source": [
    "np.r_[:9:10j]"
   ]
  },
  {
   "cell_type": "code",
   "execution_count": null,
   "id": "79641c17ec2fc6",
   "metadata": {
    "ExecuteTime": {
     "end_time": "2025-09-16T04:38:00.261790Z",
     "start_time": "2025-09-16T04:38:00.259826Z"
    }
   },
   "outputs": [],
   "source": [
    "np.arange(1.,11.)[:, np.newaxis]"
   ]
  },
  {
   "cell_type": "code",
   "execution_count": null,
   "id": "e96d26e8255ea866",
   "metadata": {
    "ExecuteTime": {
     "end_time": "2025-09-16T04:38:00.299855Z",
     "start_time": "2025-09-16T04:38:00.298110Z"
    }
   },
   "outputs": [],
   "source": [
    "np.zeros((3, 4))"
   ]
  },
  {
   "cell_type": "code",
   "execution_count": null,
   "id": "6d8ec83058cd3e08",
   "metadata": {
    "ExecuteTime": {
     "end_time": "2025-09-16T04:38:00.391260Z",
     "start_time": "2025-09-16T04:38:00.388838Z"
    }
   },
   "outputs": [],
   "source": [
    "np.zeros((3, 4, 5))"
   ]
  },
  {
   "cell_type": "code",
   "execution_count": null,
   "id": "e2c4121569c62050",
   "metadata": {
    "ExecuteTime": {
     "end_time": "2025-09-16T04:38:00.418450Z",
     "start_time": "2025-09-16T04:38:00.416506Z"
    }
   },
   "outputs": [],
   "source": [
    "np.ones((3, 4))"
   ]
  },
  {
   "cell_type": "code",
   "execution_count": null,
   "id": "3088301570bd2595",
   "metadata": {
    "ExecuteTime": {
     "end_time": "2025-09-16T04:38:00.463372Z",
     "start_time": "2025-09-16T04:38:00.461515Z"
    }
   },
   "outputs": [],
   "source": [
    "np.eye(3)"
   ]
  },
  {
   "cell_type": "code",
   "execution_count": null,
   "id": "5cb6b609ecf39e20",
   "metadata": {
    "ExecuteTime": {
     "end_time": "2025-09-16T04:38:00.559269Z",
     "start_time": "2025-09-16T04:38:00.557343Z"
    }
   },
   "outputs": [],
   "source": [
    "np.diag(a)"
   ]
  },
  {
   "cell_type": "code",
   "execution_count": null,
   "id": "c43199dc89a2dc4a",
   "metadata": {
    "ExecuteTime": {
     "end_time": "2025-09-16T04:38:00.589352Z",
     "start_time": "2025-09-16T04:38:00.587540Z"
    }
   },
   "outputs": [],
   "source": [
    "np.diag(v, 0)"
   ]
  },
  {
   "cell_type": "code",
   "execution_count": null,
   "id": "986c2ee54914206d",
   "metadata": {
    "ExecuteTime": {
     "end_time": "2025-09-16T04:38:00.631818Z",
     "start_time": "2025-09-16T04:38:00.629660Z"
    }
   },
   "outputs": [],
   "source": [
    "from numpy.random import default_rng\n",
    "rng = default_rng(42)\n",
    "rng.random((3, 4))"
   ]
  },
  {
   "cell_type": "code",
   "execution_count": null,
   "id": "8e89d2fed4a00c7",
   "metadata": {
    "ExecuteTime": {
     "end_time": "2025-09-16T04:38:00.715297Z",
     "start_time": "2025-09-16T04:38:00.713419Z"
    }
   },
   "outputs": [],
   "source": [
    "np.linspace(1,3,4)"
   ]
  },
  {
   "cell_type": "code",
   "execution_count": null,
   "id": "2417e17af7d1ce5a",
   "metadata": {
    "ExecuteTime": {
     "end_time": "2025-09-16T04:38:00.742244Z",
     "start_time": "2025-09-16T04:38:00.739639Z"
    }
   },
   "outputs": [],
   "source": [
    "np.mgrid[0:9.,0:6.]"
   ]
  },
  {
   "cell_type": "code",
   "execution_count": null,
   "id": "7802bd7e8b360e19",
   "metadata": {
    "ExecuteTime": {
     "end_time": "2025-09-16T04:38:00.768757Z",
     "start_time": "2025-09-16T04:38:00.766566Z"
    }
   },
   "outputs": [],
   "source": [
    "np.ix_(np.r_[0:9.], np.r_[0:6.])"
   ]
  },
  {
   "cell_type": "code",
   "execution_count": null,
   "id": "47002b6387f46814",
   "metadata": {
    "ExecuteTime": {
     "end_time": "2025-09-16T04:38:00.791298Z",
     "start_time": "2025-09-16T04:38:00.788853Z"
    }
   },
   "outputs": [],
   "source": [
    "np.meshgrid([1,2,4],[2,4,5])"
   ]
  },
  {
   "cell_type": "code",
   "execution_count": null,
   "id": "52135d2df4f1d282",
   "metadata": {
    "ExecuteTime": {
     "end_time": "2025-09-16T04:38:00.820681Z",
     "start_time": "2025-09-16T04:38:00.818971Z"
    }
   },
   "outputs": [],
   "source": [
    "np.ix_([1,2,4],[2,4,5])\n"
   ]
  },
  {
   "cell_type": "code",
   "execution_count": null,
   "id": "1d78f2bef18f7d3",
   "metadata": {
    "ExecuteTime": {
     "end_time": "2025-09-16T04:38:00.848580Z",
     "start_time": "2025-09-16T04:38:00.846495Z"
    }
   },
   "outputs": [],
   "source": [
    "\tnp.tile(a, (2, 3))"
   ]
  },
  {
   "cell_type": "markdown",
   "id": "2da145ccf3c155d5",
   "metadata": {},
   "source": []
  },
  {
   "cell_type": "code",
   "execution_count": null,
   "id": "8ead33fe158afa3",
   "metadata": {
    "ExecuteTime": {
     "end_time": "2025-09-16T04:38:00.891929Z",
     "start_time": "2025-09-16T04:38:00.889604Z"
    }
   },
   "outputs": [],
   "source": [
    "np.concatenate((a,b),1)"
   ]
  },
  {
   "cell_type": "code",
   "execution_count": null,
   "id": "6ccbacec1c75ce67",
   "metadata": {
    "ExecuteTime": {
     "end_time": "2025-09-16T04:38:00.984489Z",
     "start_time": "2025-09-16T04:38:00.982713Z"
    }
   },
   "outputs": [],
   "source": [
    "np.hstack((a,b))"
   ]
  },
  {
   "cell_type": "code",
   "execution_count": null,
   "id": "bb85aae1657524bc",
   "metadata": {
    "ExecuteTime": {
     "end_time": "2025-09-16T04:38:01.093427Z",
     "start_time": "2025-09-16T04:38:01.090848Z"
    }
   },
   "outputs": [],
   "source": [
    "np.column_stack((a,b))"
   ]
  },
  {
   "cell_type": "code",
   "execution_count": null,
   "id": "7734d6f390d07dd4",
   "metadata": {
    "ExecuteTime": {
     "end_time": "2025-09-16T04:38:01.158453Z",
     "start_time": "2025-09-16T04:38:01.156501Z"
    }
   },
   "outputs": [],
   "source": [
    "np.c_[a,b]"
   ]
  },
  {
   "cell_type": "code",
   "execution_count": null,
   "id": "468fcd773df620f",
   "metadata": {
    "ExecuteTime": {
     "end_time": "2025-09-16T04:38:01.279617Z",
     "start_time": "2025-09-16T04:38:01.277816Z"
    }
   },
   "outputs": [],
   "source": [
    "np.concatenate((a,b))"
   ]
  },
  {
   "cell_type": "code",
   "execution_count": null,
   "id": "2ac7d40b892d60cf",
   "metadata": {
    "ExecuteTime": {
     "end_time": "2025-09-16T04:38:01.353866Z",
     "start_time": "2025-09-16T04:38:01.352112Z"
    }
   },
   "outputs": [],
   "source": [
    "np.vstack((a,b))"
   ]
  },
  {
   "cell_type": "code",
   "execution_count": null,
   "id": "29d16e0273ca244a",
   "metadata": {
    "ExecuteTime": {
     "end_time": "2025-09-16T04:38:01.470122Z",
     "start_time": "2025-09-16T04:38:01.468356Z"
    }
   },
   "outputs": [],
   "source": [
    "np.r_[a,b]"
   ]
  },
  {
   "cell_type": "code",
   "execution_count": null,
   "id": "3751c8473ded943a",
   "metadata": {
    "ExecuteTime": {
     "end_time": "2025-09-16T04:38:01.615586Z",
     "start_time": "2025-09-16T04:38:01.613837Z"
    }
   },
   "outputs": [],
   "source": [
    "a.max()"
   ]
  },
  {
   "cell_type": "code",
   "execution_count": null,
   "id": "f8451f20ab25e5d4",
   "metadata": {
    "ExecuteTime": {
     "end_time": "2025-09-16T04:38:01.678684Z",
     "start_time": "2025-09-16T04:38:01.677073Z"
    }
   },
   "outputs": [],
   "source": [
    "np.nanmax(a)"
   ]
  },
  {
   "cell_type": "code",
   "execution_count": null,
   "id": "d4981c0a70375196",
   "metadata": {
    "ExecuteTime": {
     "end_time": "2025-09-16T04:38:01.722599Z",
     "start_time": "2025-09-16T04:38:01.719042Z"
    }
   },
   "outputs": [],
   "source": [
    "a.max(0)"
   ]
  },
  {
   "cell_type": "code",
   "execution_count": null,
   "id": "1baad4861136ae53",
   "metadata": {
    "ExecuteTime": {
     "end_time": "2025-09-16T04:38:01.745618Z",
     "start_time": "2025-09-16T04:38:01.743383Z"
    }
   },
   "outputs": [],
   "source": [
    "a.max(1)"
   ]
  },
  {
   "cell_type": "code",
   "execution_count": null,
   "id": "a7ee205f9477a320",
   "metadata": {
    "ExecuteTime": {
     "end_time": "2025-09-16T04:38:01.765642Z",
     "start_time": "2025-09-16T04:38:01.763808Z"
    }
   },
   "outputs": [],
   "source": [
    "np.maximum(a, b)"
   ]
  },
  {
   "cell_type": "code",
   "execution_count": null,
   "id": "8e8e62b9b29f75b8",
   "metadata": {
    "ExecuteTime": {
     "end_time": "2025-09-16T04:38:01.803461Z",
     "start_time": "2025-09-16T04:38:01.801751Z"
    }
   },
   "outputs": [],
   "source": [
    "np.sqrt(v @ v)"
   ]
  },
  {
   "cell_type": "code",
   "execution_count": null,
   "id": "cdcf4ec1c4649764",
   "metadata": {
    "ExecuteTime": {
     "end_time": "2025-09-16T04:38:01.867761Z",
     "start_time": "2025-09-16T04:38:01.865898Z"
    }
   },
   "outputs": [],
   "source": [
    "np.linalg.norm(v)"
   ]
  },
  {
   "cell_type": "code",
   "execution_count": null,
   "id": "1b6a2e96d1da9f4",
   "metadata": {
    "ExecuteTime": {
     "end_time": "2025-09-16T04:38:01.897851Z",
     "start_time": "2025-09-16T04:38:01.896065Z"
    }
   },
   "outputs": [],
   "source": [
    "np.logical_and(a, b)"
   ]
  },
  {
   "cell_type": "code",
   "execution_count": null,
   "id": "5fce85131020f87",
   "metadata": {
    "ExecuteTime": {
     "end_time": "2025-09-16T04:38:01.944334Z",
     "start_time": "2025-09-16T04:38:01.942581Z"
    }
   },
   "outputs": [],
   "source": [
    "np.logical_or(a,b)"
   ]
  },
  {
   "cell_type": "code",
   "execution_count": null,
   "id": "99e1e7e81b7008e8",
   "metadata": {
    "ExecuteTime": {
     "end_time": "2025-09-16T04:38:02.057661Z",
     "start_time": "2025-09-16T04:38:02.055453Z"
    }
   },
   "outputs": [],
   "source": [
    "a & b"
   ]
  },
  {
   "cell_type": "code",
   "execution_count": null,
   "id": "f54859e27e6c44cf",
   "metadata": {
    "ExecuteTime": {
     "end_time": "2025-09-16T04:38:02.130166Z",
     "start_time": "2025-09-16T04:38:02.128069Z"
    }
   },
   "outputs": [],
   "source": [
    "a | b"
   ]
  },
  {
   "cell_type": "code",
   "execution_count": null,
   "id": "ca719777258fe3f8",
   "metadata": {
    "ExecuteTime": {
     "end_time": "2025-09-16T04:38:02.253868Z",
     "start_time": "2025-09-16T04:38:02.251738Z"
    }
   },
   "outputs": [],
   "source": [
    "\n",
    "a2 = np.array([[3., 1., 2.],\n",
    "               [1., 4., 5.],\n",
    "               [2., 5., 6.]])\n",
    "linalg.inv(a2)\n"
   ]
  },
  {
   "cell_type": "code",
   "execution_count": null,
   "id": "a9e7912e4206427f",
   "metadata": {
    "ExecuteTime": {
     "end_time": "2025-09-16T04:38:02.339115Z",
     "start_time": "2025-09-16T04:38:02.337136Z"
    }
   },
   "outputs": [],
   "source": [
    "linalg.pinv(a)"
   ]
  },
  {
   "cell_type": "code",
   "execution_count": null,
   "id": "92e18cbd9b8f593d",
   "metadata": {
    "ExecuteTime": {
     "end_time": "2025-09-16T04:38:02.437475Z",
     "start_time": "2025-09-16T04:38:02.435719Z"
    }
   },
   "outputs": [],
   "source": [
    "np.linalg.matrix_rank(a)"
   ]
  },
  {
   "cell_type": "code",
   "execution_count": null,
   "id": "5fc794aedfc3743a",
   "metadata": {
    "ExecuteTime": {
     "end_time": "2025-09-16T04:38:02.470673Z",
     "start_time": "2025-09-16T04:38:02.468706Z"
    }
   },
   "outputs": [],
   "source": [
    "linalg.lstsq(a, b)"
   ]
  },
  {
   "cell_type": "code",
   "execution_count": null,
   "id": "ede8903dead5d94b",
   "metadata": {
    "ExecuteTime": {
     "end_time": "2025-09-16T04:38:02.500332Z",
     "start_time": "2025-09-16T04:38:02.498191Z"
    }
   },
   "outputs": [],
   "source": [
    "X, *_ = la.lstsq(a.T, b.T)\n",
    "X = X.T\n",
    "X"
   ]
  },
  {
   "cell_type": "code",
   "execution_count": null,
   "id": "b94db4683f28966c",
   "metadata": {
    "ExecuteTime": {
     "end_time": "2025-09-16T04:38:02.543050Z",
     "start_time": "2025-09-16T04:38:02.540532Z"
    }
   },
   "outputs": [],
   "source": [
    "\n",
    "U, S, Vh = linalg.svd(a); V = Vh.T\n",
    "print(U,S,Vh)"
   ]
  },
  {
   "cell_type": "code",
   "execution_count": null,
   "id": "7c9f3bb8f78160f7",
   "metadata": {
    "ExecuteTime": {
     "end_time": "2025-09-16T04:38:02.655936Z",
     "start_time": "2025-09-16T04:38:02.653176Z"
    }
   },
   "outputs": [],
   "source": [
    "cholesky = np.array([[3., 1.],\n",
    "               [1., 2.]])\n",
    "\n",
    "L = la.cholesky(cholesky)\n",
    "L"
   ]
  },
  {
   "cell_type": "code",
   "execution_count": null,
   "id": "122b451b463bfbe9",
   "metadata": {
    "ExecuteTime": {
     "end_time": "2025-09-16T04:38:02.702167Z",
     "start_time": "2025-09-16T04:38:02.700165Z"
    }
   },
   "outputs": [],
   "source": [
    "D,V = linalg.eig(a2)\n",
    "\n",
    "print(D)\n",
    "print(V)\n",
    "\n"
   ]
  },
  {
   "cell_type": "code",
   "execution_count": null,
   "id": "2573688e7099a8ca",
   "metadata": {
    "ExecuteTime": {
     "end_time": "2025-09-16T04:38:02.810581Z",
     "start_time": "2025-09-16T04:38:02.808414Z"
    }
   },
   "outputs": [],
   "source": [
    "a2 = np.array([[3., 1.],\n",
    "               [1., 2.]])\n",
    "D, V = linalg.eig(a2, c)\n",
    "\n",
    "print(D)\n",
    "print(V)"
   ]
  },
  {
   "cell_type": "code",
   "execution_count": null,
   "id": "3591a76f7f14e692",
   "metadata": {
    "ExecuteTime": {
     "end_time": "2025-09-16T04:38:02.849951Z",
     "start_time": "2025-09-16T04:38:02.847849Z"
    }
   },
   "outputs": [],
   "source": [
    "D, V = linalg.eig(a2)\n",
    "print(D)\n",
    "print(V)"
   ]
  },
  {
   "cell_type": "code",
   "execution_count": null,
   "id": "f9139d88ec91d5b",
   "metadata": {
    "ExecuteTime": {
     "end_time": "2025-09-16T04:38:02.878741Z",
     "start_time": "2025-09-16T04:38:02.876008Z"
    }
   },
   "outputs": [],
   "source": [
    "Q,R = linalg.qr(a)\n",
    "print(Q)\n",
    "print(R)"
   ]
  },
  {
   "cell_type": "code",
   "execution_count": null,
   "id": "e12294bcf786509d",
   "metadata": {
    "ExecuteTime": {
     "end_time": "2025-09-16T04:38:02.900485Z",
     "start_time": "2025-09-16T04:38:02.898301Z"
    }
   },
   "outputs": [],
   "source": [
    "P,L,U = linalg.lu(a)\n",
    "print(P)\n",
    "print(L)\n",
    "print(U)\n",
    "print(a == P@L@U)"
   ]
  },
  {
   "cell_type": "code",
   "execution_count": null,
   "id": "af47882d6eeab18d",
   "metadata": {
    "ExecuteTime": {
     "end_time": "2025-09-16T04:38:02.921716Z",
     "start_time": "2025-09-16T04:38:02.919991Z"
    }
   },
   "outputs": [],
   "source": [
    "cg"
   ]
  },
  {
   "cell_type": "code",
   "execution_count": null,
   "id": "9a33a0df8fdf37a9",
   "metadata": {
    "ExecuteTime": {
     "end_time": "2025-09-16T04:38:02.947019Z",
     "start_time": "2025-09-16T04:38:02.944954Z"
    }
   },
   "outputs": [],
   "source": [
    "np.fft.fft(a)"
   ]
  },
  {
   "cell_type": "code",
   "execution_count": null,
   "id": "c0268ea198920f84",
   "metadata": {
    "ExecuteTime": {
     "end_time": "2025-09-16T04:38:02.998396Z",
     "start_time": "2025-09-16T04:38:02.996471Z"
    }
   },
   "outputs": [],
   "source": [
    "np.fft.ifft(a)"
   ]
  },
  {
   "cell_type": "code",
   "execution_count": null,
   "id": "61562dbdc52aca3d",
   "metadata": {
    "ExecuteTime": {
     "end_time": "2025-09-16T04:38:03.113297Z",
     "start_time": "2025-09-16T04:38:03.111379Z"
    }
   },
   "outputs": [],
   "source": [
    "np.sort(a)"
   ]
  },
  {
   "cell_type": "code",
   "execution_count": null,
   "id": "9cf7f6ae45338918",
   "metadata": {
    "ExecuteTime": {
     "end_time": "2025-09-16T04:38:03.189064Z",
     "start_time": "2025-09-16T04:38:03.187537Z"
    }
   },
   "outputs": [],
   "source": [
    "a.sort(axis=0)"
   ]
  },
  {
   "cell_type": "code",
   "execution_count": null,
   "id": "5b1f5b4acc0e4adb",
   "metadata": {
    "ExecuteTime": {
     "end_time": "2025-09-16T04:38:03.265445Z",
     "start_time": "2025-09-16T04:38:03.263566Z"
    }
   },
   "outputs": [],
   "source": [
    "np.sort(a, axis=1)"
   ]
  },
  {
   "cell_type": "code",
   "execution_count": null,
   "id": "2384db3899b80e3a",
   "metadata": {
    "ExecuteTime": {
     "end_time": "2025-09-16T04:38:03.309855Z",
     "start_time": "2025-09-16T04:38:03.307981Z"
    }
   },
   "outputs": [],
   "source": [
    "I = np.argsort(a[:, 0]); b = a[I,:]\n",
    "I"
   ]
  },
  {
   "cell_type": "code",
   "execution_count": null,
   "id": "12f298126b70f4ca",
   "metadata": {
    "ExecuteTime": {
     "end_time": "2025-09-16T04:38:03.387806Z",
     "start_time": "2025-09-16T04:38:03.386060Z"
    }
   },
   "outputs": [],
   "source": [
    "Z = np.random.rand(12, 3)\n",
    "z, *_ = linalg.lstsq(Z, y)\n",
    "print(\"Solution z:\\n\", z)"
   ]
  },
  {
   "cell_type": "code",
   "execution_count": null,
   "id": "bcff06d06244d090",
   "metadata": {
    "ExecuteTime": {
     "end_time": "2025-09-16T04:38:03.417781Z",
     "start_time": "2025-09-16T04:38:03.415501Z"
    }
   },
   "outputs": [],
   "source": [
    "x = np.linspace(0, 1, 20)\n",
    "q = 2\n",
    "signal.resample(x, int(np.ceil(len(x) / q)))"
   ]
  },
  {
   "cell_type": "code",
   "execution_count": null,
   "id": "99b0c3067deda2ae",
   "metadata": {
    "ExecuteTime": {
     "end_time": "2025-09-16T04:38:03.446168Z",
     "start_time": "2025-09-16T04:38:03.444126Z"
    }
   },
   "outputs": [],
   "source": [
    "np.unique(a)"
   ]
  },
  {
   "cell_type": "code",
   "execution_count": null,
   "id": "fd7fa6613d35fd3",
   "metadata": {
    "ExecuteTime": {
     "end_time": "2025-09-16T04:38:03.461333Z",
     "start_time": "2025-09-16T04:38:03.459093Z"
    }
   },
   "outputs": [],
   "source": [
    "a.squeeze()"
   ]
  },
  {
   "cell_type": "markdown",
   "id": "b078ce3d75d661a8",
   "metadata": {},
   "source": [
    "## TASK 3"
   ]
  },
  {
   "cell_type": "code",
   "execution_count": null,
   "id": "ab868878acdc0e73",
   "metadata": {
    "ExecuteTime": {
     "end_time": "2025-09-16T04:38:03.549612Z",
     "start_time": "2025-09-16T04:38:03.499254Z"
    }
   },
   "outputs": [],
   "source": [
    "import matplotlib.pyplot as plt\n",
    "plt.plot([1,2,3,4], [1,2,7,14])\n",
    "plt.axis([0, 6, 0, 20])\n",
    "plt.show()"
   ]
  },
  {
   "cell_type": "code",
   "execution_count": null,
   "id": "9bf1c0976f6031f5",
   "metadata": {
    "ExecuteTime": {
     "end_time": "2025-09-16T04:38:03.622523Z",
     "start_time": "2025-09-16T04:38:03.583065Z"
    }
   },
   "outputs": [],
   "source": [
    "import matplotlib . pyplot as plt\n",
    "x = np . linspace (0 , 2* np . pi , 100)\n",
    "plt . plot (x , np . sin ( x ) )\n",
    "plt . show ()"
   ]
  }
 ],
 "metadata": {
  "kernelspec": {
   "display_name": "Python 3",
   "language": "python",
   "name": "python3"
  },
  "language_info": {
   "codemirror_mode": {
    "name": "ipython",
    "version": 2
   },
   "file_extension": ".py",
   "mimetype": "text/x-python",
   "name": "python",
   "nbconvert_exporter": "python",
   "pygments_lexer": "ipython2",
   "version": "2.7.6"
  }
 },
 "nbformat": 4,
 "nbformat_minor": 5
}
