{
 "cells": [
  {
   "metadata": {},
   "cell_type": "markdown",
   "source": "## Assignment 0 IPYNB",
   "id": "90605b993d226e14"
  },
  {
   "metadata": {},
   "cell_type": "markdown",
   "source": "## TASK 2",
   "id": "8b2f71fe8d39b8a"
  },
  {
   "metadata": {
    "ExecuteTime": {
     "end_time": "2025-09-16T04:37:57.565002Z",
     "start_time": "2025-09-16T04:37:57.557315Z"
    }
   },
   "cell_type": "code",
   "source": [
    "import numpy as np\n",
    "import scipy.linalg\n",
    "import matplotlib.pyplot as plt\n",
    "from scipy import io, integrate, linalg, signal\n",
    "from scipy.sparse.linalg import cg, eigs\n",
    "\n",
    "a = np.arange(1, 61).reshape(10, 6)\n",
    "b = np.arange(61, 121).reshape(10, 6)\n",
    "c = np.array([[1., 2.], [3., 4.]])\n",
    "d = np.array([[5., 6.], [7., 8.]])\n",
    "v = np.array([0.2, 0.7, 0.9, 0.1, 0.55, 0.8])\n",
    "v_col = v[:, np.newaxis]\n",
    "I3 = np.eye(3)\n",
    "diag_vec = np.array([1., 2., 3.])\n",
    "rng = np.random.default_rng(42)\n",
    "A2 = np.array([[3., 1.], [1., 2.]])\n",
    "Z = np.random.rand(10, 3)   # 10x3\n",
    "y = np.random.rand(10)"
   ],
   "id": "c3ca2d7ec366701",
   "outputs": [],
   "execution_count": 910
  },
  {
   "metadata": {
    "ExecuteTime": {
     "end_time": "2025-09-16T04:37:57.579359Z",
     "start_time": "2025-09-16T04:37:57.576458Z"
    }
   },
   "cell_type": "code",
   "source": "np.ndim ( a )",
   "id": "6c9e15b41b6611db",
   "outputs": [
    {
     "data": {
      "text/plain": [
       "2"
      ]
     },
     "execution_count": 911,
     "metadata": {},
     "output_type": "execute_result"
    }
   ],
   "execution_count": 911
  },
  {
   "metadata": {
    "ExecuteTime": {
     "end_time": "2025-09-16T04:37:57.601828Z",
     "start_time": "2025-09-16T04:37:57.599568Z"
    }
   },
   "cell_type": "code",
   "source": "np.size ( a )",
   "id": "45f043d1908d01f4",
   "outputs": [
    {
     "data": {
      "text/plain": [
       "60"
      ]
     },
     "execution_count": 912,
     "metadata": {},
     "output_type": "execute_result"
    }
   ],
   "execution_count": 912
  },
  {
   "metadata": {
    "ExecuteTime": {
     "end_time": "2025-09-16T04:37:57.616854Z",
     "start_time": "2025-09-16T04:37:57.614791Z"
    }
   },
   "cell_type": "code",
   "source": "a.shape",
   "id": "7ad2deff426895d",
   "outputs": [
    {
     "data": {
      "text/plain": [
       "(10, 6)"
      ]
     },
     "execution_count": 913,
     "metadata": {},
     "output_type": "execute_result"
    }
   ],
   "execution_count": 913
  },
  {
   "metadata": {
    "ExecuteTime": {
     "end_time": "2025-09-16T04:37:57.636250Z",
     "start_time": "2025-09-16T04:37:57.633999Z"
    }
   },
   "cell_type": "code",
   "source": "a.shape[1]",
   "id": "2268abd56c544958",
   "outputs": [
    {
     "data": {
      "text/plain": [
       "6"
      ]
     },
     "execution_count": 914,
     "metadata": {},
     "output_type": "execute_result"
    }
   ],
   "execution_count": 914
  },
  {
   "metadata": {
    "ExecuteTime": {
     "end_time": "2025-09-16T04:37:57.652591Z",
     "start_time": "2025-09-16T04:37:57.649468Z"
    }
   },
   "cell_type": "code",
   "source": "np . array ([[1. ,2. ,3.] ,[4. ,5. ,6.]])",
   "id": "bb8121453df71198",
   "outputs": [
    {
     "data": {
      "text/plain": [
       "array([[1., 2., 3.],\n",
       "       [4., 5., 6.]])"
      ]
     },
     "execution_count": 915,
     "metadata": {},
     "output_type": "execute_result"
    }
   ],
   "execution_count": 915
  },
  {
   "metadata": {
    "ExecuteTime": {
     "end_time": "2025-09-16T04:37:57.727979Z",
     "start_time": "2025-09-16T04:37:57.725384Z"
    }
   },
   "cell_type": "code",
   "source": "np . block ([[ c , d ] ,[d , c ]])",
   "id": "b1849db58e919e18",
   "outputs": [
    {
     "data": {
      "text/plain": [
       "array([[1., 2., 5., 6.],\n",
       "       [3., 4., 7., 8.],\n",
       "       [5., 6., 1., 2.],\n",
       "       [7., 8., 3., 4.]])"
      ]
     },
     "execution_count": 916,
     "metadata": {},
     "output_type": "execute_result"
    }
   ],
   "execution_count": 916
  },
  {
   "metadata": {
    "ExecuteTime": {
     "end_time": "2025-09-16T04:37:57.961390Z",
     "start_time": "2025-09-16T04:37:57.959616Z"
    }
   },
   "cell_type": "code",
   "source": "a [ -1]",
   "id": "fa3876c99ade0d8b",
   "outputs": [
    {
     "data": {
      "text/plain": [
       "array([55, 56, 57, 58, 59, 60])"
      ]
     },
     "execution_count": 917,
     "metadata": {},
     "output_type": "execute_result"
    }
   ],
   "execution_count": 917
  },
  {
   "metadata": {
    "ExecuteTime": {
     "end_time": "2025-09-16T04:37:57.969Z",
     "start_time": "2025-09-16T04:37:57.967130Z"
    }
   },
   "cell_type": "code",
   "source": "a [1 ,4]",
   "id": "9b43fe2cc286b67",
   "outputs": [
    {
     "data": {
      "text/plain": [
       "np.int64(11)"
      ]
     },
     "execution_count": 918,
     "metadata": {},
     "output_type": "execute_result"
    }
   ],
   "execution_count": 918
  },
  {
   "metadata": {
    "ExecuteTime": {
     "end_time": "2025-09-16T04:37:58.002101Z",
     "start_time": "2025-09-16T04:37:57.999747Z"
    }
   },
   "cell_type": "code",
   "source": "a [1 ,:]",
   "id": "d50953ba7dee1802",
   "outputs": [
    {
     "data": {
      "text/plain": [
       "array([ 7,  8,  9, 10, 11, 12])"
      ]
     },
     "execution_count": 919,
     "metadata": {},
     "output_type": "execute_result"
    }
   ],
   "execution_count": 919
  },
  {
   "metadata": {
    "ExecuteTime": {
     "end_time": "2025-09-16T04:37:58.028263Z",
     "start_time": "2025-09-16T04:37:58.026456Z"
    }
   },
   "cell_type": "code",
   "source": "a [:5 ,:]",
   "id": "8f1f3857afbddfef",
   "outputs": [
    {
     "data": {
      "text/plain": [
       "array([[ 1,  2,  3,  4,  5,  6],\n",
       "       [ 7,  8,  9, 10, 11, 12],\n",
       "       [13, 14, 15, 16, 17, 18],\n",
       "       [19, 20, 21, 22, 23, 24],\n",
       "       [25, 26, 27, 28, 29, 30]])"
      ]
     },
     "execution_count": 920,
     "metadata": {},
     "output_type": "execute_result"
    }
   ],
   "execution_count": 920
  },
  {
   "metadata": {
    "ExecuteTime": {
     "end_time": "2025-09-16T04:37:58.072518Z",
     "start_time": "2025-09-16T04:37:58.070803Z"
    }
   },
   "cell_type": "code",
   "source": "a[-5:]",
   "id": "7b2d464b64e777a8",
   "outputs": [
    {
     "data": {
      "text/plain": [
       "array([[31, 32, 33, 34, 35, 36],\n",
       "       [37, 38, 39, 40, 41, 42],\n",
       "       [43, 44, 45, 46, 47, 48],\n",
       "       [49, 50, 51, 52, 53, 54],\n",
       "       [55, 56, 57, 58, 59, 60]])"
      ]
     },
     "execution_count": 921,
     "metadata": {},
     "output_type": "execute_result"
    }
   ],
   "execution_count": 921
  },
  {
   "metadata": {
    "ExecuteTime": {
     "end_time": "2025-09-16T04:37:58.207634Z",
     "start_time": "2025-09-16T04:37:58.205859Z"
    }
   },
   "cell_type": "code",
   "source": "a[0:3,4:9]",
   "id": "1a4993179aafced5",
   "outputs": [
    {
     "data": {
      "text/plain": [
       "array([[ 5,  6],\n",
       "       [11, 12],\n",
       "       [17, 18]])"
      ]
     },
     "execution_count": 922,
     "metadata": {},
     "output_type": "execute_result"
    }
   ],
   "execution_count": 922
  },
  {
   "metadata": {
    "ExecuteTime": {
     "end_time": "2025-09-16T04:37:58.330306Z",
     "start_time": "2025-09-16T04:37:58.328372Z"
    }
   },
   "cell_type": "code",
   "source": "a[np.ix_([1, 3, 4], [0, 2])]",
   "id": "6cd4624168fe7a74",
   "outputs": [
    {
     "data": {
      "text/plain": [
       "array([[ 7,  9],\n",
       "       [19, 21],\n",
       "       [25, 27]])"
      ]
     },
     "execution_count": 923,
     "metadata": {},
     "output_type": "execute_result"
    }
   ],
   "execution_count": 923
  },
  {
   "metadata": {
    "ExecuteTime": {
     "end_time": "2025-09-16T04:37:58.429717Z",
     "start_time": "2025-09-16T04:37:58.427006Z"
    }
   },
   "cell_type": "code",
   "source": "a[2:21:2,:]",
   "id": "299f12fda6ff1ee7",
   "outputs": [
    {
     "data": {
      "text/plain": [
       "array([[13, 14, 15, 16, 17, 18],\n",
       "       [25, 26, 27, 28, 29, 30],\n",
       "       [37, 38, 39, 40, 41, 42],\n",
       "       [49, 50, 51, 52, 53, 54]])"
      ]
     },
     "execution_count": 924,
     "metadata": {},
     "output_type": "execute_result"
    }
   ],
   "execution_count": 924
  },
  {
   "metadata": {
    "ExecuteTime": {
     "end_time": "2025-09-16T04:37:58.570755Z",
     "start_time": "2025-09-16T04:37:58.569030Z"
    }
   },
   "cell_type": "code",
   "source": "a[::2, :]",
   "id": "acd9fb27a0ac590d",
   "outputs": [
    {
     "data": {
      "text/plain": [
       "array([[ 1,  2,  3,  4,  5,  6],\n",
       "       [13, 14, 15, 16, 17, 18],\n",
       "       [25, 26, 27, 28, 29, 30],\n",
       "       [37, 38, 39, 40, 41, 42],\n",
       "       [49, 50, 51, 52, 53, 54]])"
      ]
     },
     "execution_count": 925,
     "metadata": {},
     "output_type": "execute_result"
    }
   ],
   "execution_count": 925
  },
  {
   "metadata": {
    "ExecuteTime": {
     "end_time": "2025-09-16T04:37:58.676996Z",
     "start_time": "2025-09-16T04:37:58.675161Z"
    }
   },
   "cell_type": "code",
   "source": "a[::-1,:]",
   "id": "e09a05b775e3d64f",
   "outputs": [
    {
     "data": {
      "text/plain": [
       "array([[55, 56, 57, 58, 59, 60],\n",
       "       [49, 50, 51, 52, 53, 54],\n",
       "       [43, 44, 45, 46, 47, 48],\n",
       "       [37, 38, 39, 40, 41, 42],\n",
       "       [31, 32, 33, 34, 35, 36],\n",
       "       [25, 26, 27, 28, 29, 30],\n",
       "       [19, 20, 21, 22, 23, 24],\n",
       "       [13, 14, 15, 16, 17, 18],\n",
       "       [ 7,  8,  9, 10, 11, 12],\n",
       "       [ 1,  2,  3,  4,  5,  6]])"
      ]
     },
     "execution_count": 926,
     "metadata": {},
     "output_type": "execute_result"
    }
   ],
   "execution_count": 926
  },
  {
   "metadata": {
    "ExecuteTime": {
     "end_time": "2025-09-16T04:37:58.790845Z",
     "start_time": "2025-09-16T04:37:58.789043Z"
    }
   },
   "cell_type": "code",
   "source": "a[np.r_[:len(a),0]]",
   "id": "82e0a5150e567108",
   "outputs": [
    {
     "data": {
      "text/plain": [
       "array([[ 1,  2,  3,  4,  5,  6],\n",
       "       [ 7,  8,  9, 10, 11, 12],\n",
       "       [13, 14, 15, 16, 17, 18],\n",
       "       [19, 20, 21, 22, 23, 24],\n",
       "       [25, 26, 27, 28, 29, 30],\n",
       "       [31, 32, 33, 34, 35, 36],\n",
       "       [37, 38, 39, 40, 41, 42],\n",
       "       [43, 44, 45, 46, 47, 48],\n",
       "       [49, 50, 51, 52, 53, 54],\n",
       "       [55, 56, 57, 58, 59, 60],\n",
       "       [ 1,  2,  3,  4,  5,  6]])"
      ]
     },
     "execution_count": 927,
     "metadata": {},
     "output_type": "execute_result"
    }
   ],
   "execution_count": 927
  },
  {
   "metadata": {
    "ExecuteTime": {
     "end_time": "2025-09-16T04:37:58.857934Z",
     "start_time": "2025-09-16T04:37:58.855982Z"
    }
   },
   "cell_type": "code",
   "source": "a.transpose()",
   "id": "ded719cc8df67a1a",
   "outputs": [
    {
     "data": {
      "text/plain": [
       "array([[ 1,  7, 13, 19, 25, 31, 37, 43, 49, 55],\n",
       "       [ 2,  8, 14, 20, 26, 32, 38, 44, 50, 56],\n",
       "       [ 3,  9, 15, 21, 27, 33, 39, 45, 51, 57],\n",
       "       [ 4, 10, 16, 22, 28, 34, 40, 46, 52, 58],\n",
       "       [ 5, 11, 17, 23, 29, 35, 41, 47, 53, 59],\n",
       "       [ 6, 12, 18, 24, 30, 36, 42, 48, 54, 60]])"
      ]
     },
     "execution_count": 928,
     "metadata": {},
     "output_type": "execute_result"
    }
   ],
   "execution_count": 928
  },
  {
   "metadata": {
    "ExecuteTime": {
     "end_time": "2025-09-16T04:37:58.987300Z",
     "start_time": "2025-09-16T04:37:58.985446Z"
    }
   },
   "cell_type": "code",
   "source": "a.conj().transpose()",
   "id": "4b815852f13a241b",
   "outputs": [
    {
     "data": {
      "text/plain": [
       "array([[ 1,  7, 13, 19, 25, 31, 37, 43, 49, 55],\n",
       "       [ 2,  8, 14, 20, 26, 32, 38, 44, 50, 56],\n",
       "       [ 3,  9, 15, 21, 27, 33, 39, 45, 51, 57],\n",
       "       [ 4, 10, 16, 22, 28, 34, 40, 46, 52, 58],\n",
       "       [ 5, 11, 17, 23, 29, 35, 41, 47, 53, 59],\n",
       "       [ 6, 12, 18, 24, 30, 36, 42, 48, 54, 60]])"
      ]
     },
     "execution_count": 929,
     "metadata": {},
     "output_type": "execute_result"
    }
   ],
   "execution_count": 929
  },
  {
   "metadata": {
    "ExecuteTime": {
     "end_time": "2025-09-16T04:37:59.095014Z",
     "start_time": "2025-09-16T04:37:59.093015Z"
    }
   },
   "cell_type": "code",
   "source": "a @ b.T\n",
   "id": "cc417d765c7963b3",
   "outputs": [
    {
     "data": {
      "text/plain": [
       "array([[ 1351,  1477,  1603,  1729,  1855,  1981,  2107,  2233,  2359,\n",
       "         2485],\n",
       "       [ 3637,  3979,  4321,  4663,  5005,  5347,  5689,  6031,  6373,\n",
       "         6715],\n",
       "       [ 5923,  6481,  7039,  7597,  8155,  8713,  9271,  9829, 10387,\n",
       "        10945],\n",
       "       [ 8209,  8983,  9757, 10531, 11305, 12079, 12853, 13627, 14401,\n",
       "        15175],\n",
       "       [10495, 11485, 12475, 13465, 14455, 15445, 16435, 17425, 18415,\n",
       "        19405],\n",
       "       [12781, 13987, 15193, 16399, 17605, 18811, 20017, 21223, 22429,\n",
       "        23635],\n",
       "       [15067, 16489, 17911, 19333, 20755, 22177, 23599, 25021, 26443,\n",
       "        27865],\n",
       "       [17353, 18991, 20629, 22267, 23905, 25543, 27181, 28819, 30457,\n",
       "        32095],\n",
       "       [19639, 21493, 23347, 25201, 27055, 28909, 30763, 32617, 34471,\n",
       "        36325],\n",
       "       [21925, 23995, 26065, 28135, 30205, 32275, 34345, 36415, 38485,\n",
       "        40555]])"
      ]
     },
     "execution_count": 930,
     "metadata": {},
     "output_type": "execute_result"
    }
   ],
   "execution_count": 930
  },
  {
   "metadata": {
    "ExecuteTime": {
     "end_time": "2025-09-16T04:37:59.162467Z",
     "start_time": "2025-09-16T04:37:59.160407Z"
    }
   },
   "cell_type": "code",
   "source": "a * b",
   "id": "40e966a773690419",
   "outputs": [
    {
     "data": {
      "text/plain": [
       "array([[  61,  124,  189,  256,  325,  396],\n",
       "       [ 469,  544,  621,  700,  781,  864],\n",
       "       [ 949, 1036, 1125, 1216, 1309, 1404],\n",
       "       [1501, 1600, 1701, 1804, 1909, 2016],\n",
       "       [2125, 2236, 2349, 2464, 2581, 2700],\n",
       "       [2821, 2944, 3069, 3196, 3325, 3456],\n",
       "       [3589, 3724, 3861, 4000, 4141, 4284],\n",
       "       [4429, 4576, 4725, 4876, 5029, 5184],\n",
       "       [5341, 5500, 5661, 5824, 5989, 6156],\n",
       "       [6325, 6496, 6669, 6844, 7021, 7200]])"
      ]
     },
     "execution_count": 931,
     "metadata": {},
     "output_type": "execute_result"
    }
   ],
   "execution_count": 931
  },
  {
   "metadata": {
    "ExecuteTime": {
     "end_time": "2025-09-16T04:37:59.276744Z",
     "start_time": "2025-09-16T04:37:59.274595Z"
    }
   },
   "cell_type": "code",
   "source": "a/b",
   "id": "eea24a6d128f8fd4",
   "outputs": [
    {
     "data": {
      "text/plain": [
       "array([[0.01639344, 0.03225806, 0.04761905, 0.0625    , 0.07692308,\n",
       "        0.09090909],\n",
       "       [0.10447761, 0.11764706, 0.13043478, 0.14285714, 0.15492958,\n",
       "        0.16666667],\n",
       "       [0.17808219, 0.18918919, 0.2       , 0.21052632, 0.22077922,\n",
       "        0.23076923],\n",
       "       [0.24050633, 0.25      , 0.25925926, 0.26829268, 0.27710843,\n",
       "        0.28571429],\n",
       "       [0.29411765, 0.30232558, 0.31034483, 0.31818182, 0.3258427 ,\n",
       "        0.33333333],\n",
       "       [0.34065934, 0.34782609, 0.35483871, 0.36170213, 0.36842105,\n",
       "        0.375     ],\n",
       "       [0.3814433 , 0.3877551 , 0.39393939, 0.4       , 0.40594059,\n",
       "        0.41176471],\n",
       "       [0.41747573, 0.42307692, 0.42857143, 0.43396226, 0.43925234,\n",
       "        0.44444444],\n",
       "       [0.44954128, 0.45454545, 0.45945946, 0.46428571, 0.46902655,\n",
       "        0.47368421],\n",
       "       [0.47826087, 0.48275862, 0.48717949, 0.49152542, 0.49579832,\n",
       "        0.5       ]])"
      ]
     },
     "execution_count": 932,
     "metadata": {},
     "output_type": "execute_result"
    }
   ],
   "execution_count": 932
  },
  {
   "metadata": {
    "ExecuteTime": {
     "end_time": "2025-09-16T04:37:59.376580Z",
     "start_time": "2025-09-16T04:37:59.374717Z"
    }
   },
   "cell_type": "code",
   "source": "a**3",
   "id": "874c90198f6aa32a",
   "outputs": [
    {
     "data": {
      "text/plain": [
       "array([[     1,      8,     27,     64,    125,    216],\n",
       "       [   343,    512,    729,   1000,   1331,   1728],\n",
       "       [  2197,   2744,   3375,   4096,   4913,   5832],\n",
       "       [  6859,   8000,   9261,  10648,  12167,  13824],\n",
       "       [ 15625,  17576,  19683,  21952,  24389,  27000],\n",
       "       [ 29791,  32768,  35937,  39304,  42875,  46656],\n",
       "       [ 50653,  54872,  59319,  64000,  68921,  74088],\n",
       "       [ 79507,  85184,  91125,  97336, 103823, 110592],\n",
       "       [117649, 125000, 132651, 140608, 148877, 157464],\n",
       "       [166375, 175616, 185193, 195112, 205379, 216000]])"
      ]
     },
     "execution_count": 933,
     "metadata": {},
     "output_type": "execute_result"
    }
   ],
   "execution_count": 933
  },
  {
   "metadata": {
    "ExecuteTime": {
     "end_time": "2025-09-16T04:37:59.450871Z",
     "start_time": "2025-09-16T04:37:59.448734Z"
    }
   },
   "cell_type": "code",
   "source": "(a>0.5)",
   "id": "d1e1fa639b4071f7",
   "outputs": [
    {
     "data": {
      "text/plain": [
       "array([[ True,  True,  True,  True,  True,  True],\n",
       "       [ True,  True,  True,  True,  True,  True],\n",
       "       [ True,  True,  True,  True,  True,  True],\n",
       "       [ True,  True,  True,  True,  True,  True],\n",
       "       [ True,  True,  True,  True,  True,  True],\n",
       "       [ True,  True,  True,  True,  True,  True],\n",
       "       [ True,  True,  True,  True,  True,  True],\n",
       "       [ True,  True,  True,  True,  True,  True],\n",
       "       [ True,  True,  True,  True,  True,  True],\n",
       "       [ True,  True,  True,  True,  True,  True]])"
      ]
     },
     "execution_count": 934,
     "metadata": {},
     "output_type": "execute_result"
    }
   ],
   "execution_count": 934
  },
  {
   "metadata": {
    "ExecuteTime": {
     "end_time": "2025-09-16T04:37:59.544355Z",
     "start_time": "2025-09-16T04:37:59.542373Z"
    }
   },
   "cell_type": "code",
   "source": "np.nonzero(a > 0.5)",
   "id": "978ce266f66c57ae",
   "outputs": [
    {
     "data": {
      "text/plain": [
       "(array([0, 0, 0, 0, 0, 0, 1, 1, 1, 1, 1, 1, 2, 2, 2, 2, 2, 2, 3, 3, 3, 3,\n",
       "        3, 3, 4, 4, 4, 4, 4, 4, 5, 5, 5, 5, 5, 5, 6, 6, 6, 6, 6, 6, 7, 7,\n",
       "        7, 7, 7, 7, 8, 8, 8, 8, 8, 8, 9, 9, 9, 9, 9, 9]),\n",
       " array([0, 1, 2, 3, 4, 5, 0, 1, 2, 3, 4, 5, 0, 1, 2, 3, 4, 5, 0, 1, 2, 3,\n",
       "        4, 5, 0, 1, 2, 3, 4, 5, 0, 1, 2, 3, 4, 5, 0, 1, 2, 3, 4, 5, 0, 1,\n",
       "        2, 3, 4, 5, 0, 1, 2, 3, 4, 5, 0, 1, 2, 3, 4, 5]))"
      ]
     },
     "execution_count": 935,
     "metadata": {},
     "output_type": "execute_result"
    }
   ],
   "execution_count": 935
  },
  {
   "metadata": {
    "ExecuteTime": {
     "end_time": "2025-09-16T04:37:59.604275Z",
     "start_time": "2025-09-16T04:37:59.602415Z"
    }
   },
   "cell_type": "code",
   "source": "a[:,np.nonzero(v > 0.5)[0]]",
   "id": "407d8f16ed98d14a",
   "outputs": [
    {
     "data": {
      "text/plain": [
       "array([[ 2,  3,  5,  6],\n",
       "       [ 8,  9, 11, 12],\n",
       "       [14, 15, 17, 18],\n",
       "       [20, 21, 23, 24],\n",
       "       [26, 27, 29, 30],\n",
       "       [32, 33, 35, 36],\n",
       "       [38, 39, 41, 42],\n",
       "       [44, 45, 47, 48],\n",
       "       [50, 51, 53, 54],\n",
       "       [56, 57, 59, 60]])"
      ]
     },
     "execution_count": 936,
     "metadata": {},
     "output_type": "execute_result"
    }
   ],
   "execution_count": 936
  },
  {
   "metadata": {
    "ExecuteTime": {
     "end_time": "2025-09-16T04:37:59.671438Z",
     "start_time": "2025-09-16T04:37:59.669621Z"
    }
   },
   "cell_type": "code",
   "source": "a[:, v.T > 0.5]",
   "id": "d6ea4d0dcb1cc35d",
   "outputs": [
    {
     "data": {
      "text/plain": [
       "array([[ 2,  3,  5,  6],\n",
       "       [ 8,  9, 11, 12],\n",
       "       [14, 15, 17, 18],\n",
       "       [20, 21, 23, 24],\n",
       "       [26, 27, 29, 30],\n",
       "       [32, 33, 35, 36],\n",
       "       [38, 39, 41, 42],\n",
       "       [44, 45, 47, 48],\n",
       "       [50, 51, 53, 54],\n",
       "       [56, 57, 59, 60]])"
      ]
     },
     "execution_count": 937,
     "metadata": {},
     "output_type": "execute_result"
    }
   ],
   "execution_count": 937
  },
  {
   "metadata": {
    "ExecuteTime": {
     "end_time": "2025-09-16T04:37:59.783064Z",
     "start_time": "2025-09-16T04:37:59.781342Z"
    }
   },
   "cell_type": "code",
   "source": "a[a < 0.5]=0",
   "id": "d4ee066fea3322f4",
   "outputs": [],
   "execution_count": 938
  },
  {
   "metadata": {
    "ExecuteTime": {
     "end_time": "2025-09-16T04:37:59.834955Z",
     "start_time": "2025-09-16T04:37:59.832872Z"
    }
   },
   "cell_type": "code",
   "source": "a * (a > 0.5)",
   "id": "352df721e36dd0b6",
   "outputs": [
    {
     "data": {
      "text/plain": [
       "array([[ 1,  2,  3,  4,  5,  6],\n",
       "       [ 7,  8,  9, 10, 11, 12],\n",
       "       [13, 14, 15, 16, 17, 18],\n",
       "       [19, 20, 21, 22, 23, 24],\n",
       "       [25, 26, 27, 28, 29, 30],\n",
       "       [31, 32, 33, 34, 35, 36],\n",
       "       [37, 38, 39, 40, 41, 42],\n",
       "       [43, 44, 45, 46, 47, 48],\n",
       "       [49, 50, 51, 52, 53, 54],\n",
       "       [55, 56, 57, 58, 59, 60]])"
      ]
     },
     "execution_count": 939,
     "metadata": {},
     "output_type": "execute_result"
    }
   ],
   "execution_count": 939
  },
  {
   "metadata": {
    "ExecuteTime": {
     "end_time": "2025-09-16T04:37:59.883197Z",
     "start_time": "2025-09-16T04:37:59.881664Z"
    }
   },
   "cell_type": "code",
   "source": "a[:] = 3",
   "id": "e1324376b653e226",
   "outputs": [],
   "execution_count": 940
  },
  {
   "metadata": {
    "ExecuteTime": {
     "end_time": "2025-09-16T04:37:59.944624Z",
     "start_time": "2025-09-16T04:37:59.942692Z"
    }
   },
   "cell_type": "code",
   "source": [
    "x = np.arange(1, 13).reshape(3, 4)\n",
    "y = x.copy()\n",
    "print(x)\n",
    "print(y)"
   ],
   "id": "c750103c3a0b0801",
   "outputs": [
    {
     "name": "stdout",
     "output_type": "stream",
     "text": [
      "[[ 1  2  3  4]\n",
      " [ 5  6  7  8]\n",
      " [ 9 10 11 12]]\n",
      "[[ 1  2  3  4]\n",
      " [ 5  6  7  8]\n",
      " [ 9 10 11 12]]\n"
     ]
    }
   ],
   "execution_count": 941
  },
  {
   "metadata": {
    "ExecuteTime": {
     "end_time": "2025-09-16T04:38:00.014480Z",
     "start_time": "2025-09-16T04:38:00.011411Z"
    }
   },
   "cell_type": "code",
   "source": [
    "y = x[1, :].copy()\n",
    "y"
   ],
   "id": "412064cd4e33adc4",
   "outputs": [
    {
     "data": {
      "text/plain": [
       "array([5, 6, 7, 8])"
      ]
     },
     "execution_count": 942,
     "metadata": {},
     "output_type": "execute_result"
    }
   ],
   "execution_count": 942
  },
  {
   "metadata": {
    "ExecuteTime": {
     "end_time": "2025-09-16T04:38:00.107081Z",
     "start_time": "2025-09-16T04:38:00.103645Z"
    }
   },
   "cell_type": "code",
   "source": [
    "y = x.flatten()\n",
    "y"
   ],
   "id": "5f4171e40bd6ddb9",
   "outputs": [
    {
     "data": {
      "text/plain": [
       "array([ 1,  2,  3,  4,  5,  6,  7,  8,  9, 10, 11, 12])"
      ]
     },
     "execution_count": 943,
     "metadata": {},
     "output_type": "execute_result"
    }
   ],
   "execution_count": 943
  },
  {
   "metadata": {
    "ExecuteTime": {
     "end_time": "2025-09-16T04:38:00.152676Z",
     "start_time": "2025-09-16T04:38:00.150332Z"
    }
   },
   "cell_type": "code",
   "source": "np.arange(1., 11.)",
   "id": "76aa599dae26c65f",
   "outputs": [
    {
     "data": {
      "text/plain": [
       "array([ 1.,  2.,  3.,  4.,  5.,  6.,  7.,  8.,  9., 10.])"
      ]
     },
     "execution_count": 944,
     "metadata": {},
     "output_type": "execute_result"
    }
   ],
   "execution_count": 944
  },
  {
   "metadata": {
    "ExecuteTime": {
     "end_time": "2025-09-16T04:38:00.180287Z",
     "start_time": "2025-09-16T04:38:00.177380Z"
    }
   },
   "cell_type": "code",
   "source": "np.r_[1.:11.]",
   "id": "5dcf64d5cf5b2e7c",
   "outputs": [
    {
     "data": {
      "text/plain": [
       "array([ 1.,  2.,  3.,  4.,  5.,  6.,  7.,  8.,  9., 10.])"
      ]
     },
     "execution_count": 945,
     "metadata": {},
     "output_type": "execute_result"
    }
   ],
   "execution_count": 945
  },
  {
   "metadata": {
    "ExecuteTime": {
     "end_time": "2025-09-16T04:38:00.197397Z",
     "start_time": "2025-09-16T04:38:00.195209Z"
    }
   },
   "cell_type": "code",
   "source": "np.r_[1:10:10j]",
   "id": "1d10d954e4e6770b",
   "outputs": [
    {
     "data": {
      "text/plain": [
       "array([ 1.,  2.,  3.,  4.,  5.,  6.,  7.,  8.,  9., 10.])"
      ]
     },
     "execution_count": 946,
     "metadata": {},
     "output_type": "execute_result"
    }
   ],
   "execution_count": 946
  },
  {
   "metadata": {
    "ExecuteTime": {
     "end_time": "2025-09-16T04:38:00.213489Z",
     "start_time": "2025-09-16T04:38:00.210991Z"
    }
   },
   "cell_type": "code",
   "source": "np.arange(10.)",
   "id": "7009133dbd822c19",
   "outputs": [
    {
     "data": {
      "text/plain": [
       "array([0., 1., 2., 3., 4., 5., 6., 7., 8., 9.])"
      ]
     },
     "execution_count": 947,
     "metadata": {},
     "output_type": "execute_result"
    }
   ],
   "execution_count": 947
  },
  {
   "metadata": {
    "ExecuteTime": {
     "end_time": "2025-09-16T04:38:00.229985Z",
     "start_time": "2025-09-16T04:38:00.227398Z"
    }
   },
   "cell_type": "code",
   "source": "np.r_[:10.]",
   "id": "3b2e67b926d25468",
   "outputs": [
    {
     "data": {
      "text/plain": [
       "array([0., 1., 2., 3., 4., 5., 6., 7., 8., 9.])"
      ]
     },
     "execution_count": 948,
     "metadata": {},
     "output_type": "execute_result"
    }
   ],
   "execution_count": 948
  },
  {
   "metadata": {
    "ExecuteTime": {
     "end_time": "2025-09-16T04:38:00.245761Z",
     "start_time": "2025-09-16T04:38:00.243269Z"
    }
   },
   "cell_type": "code",
   "source": "np.r_[:9:10j]",
   "id": "1d5e4a82866238b3",
   "outputs": [
    {
     "data": {
      "text/plain": [
       "array([0., 1., 2., 3., 4., 5., 6., 7., 8., 9.])"
      ]
     },
     "execution_count": 949,
     "metadata": {},
     "output_type": "execute_result"
    }
   ],
   "execution_count": 949
  },
  {
   "metadata": {
    "ExecuteTime": {
     "end_time": "2025-09-16T04:38:00.261790Z",
     "start_time": "2025-09-16T04:38:00.259826Z"
    }
   },
   "cell_type": "code",
   "source": "np.arange(1.,11.)[:, np.newaxis]",
   "id": "79641c17ec2fc6",
   "outputs": [
    {
     "data": {
      "text/plain": [
       "array([[ 1.],\n",
       "       [ 2.],\n",
       "       [ 3.],\n",
       "       [ 4.],\n",
       "       [ 5.],\n",
       "       [ 6.],\n",
       "       [ 7.],\n",
       "       [ 8.],\n",
       "       [ 9.],\n",
       "       [10.]])"
      ]
     },
     "execution_count": 950,
     "metadata": {},
     "output_type": "execute_result"
    }
   ],
   "execution_count": 950
  },
  {
   "metadata": {
    "ExecuteTime": {
     "end_time": "2025-09-16T04:38:00.299855Z",
     "start_time": "2025-09-16T04:38:00.298110Z"
    }
   },
   "cell_type": "code",
   "source": "np.zeros((3, 4))",
   "id": "e96d26e8255ea866",
   "outputs": [
    {
     "data": {
      "text/plain": [
       "array([[0., 0., 0., 0.],\n",
       "       [0., 0., 0., 0.],\n",
       "       [0., 0., 0., 0.]])"
      ]
     },
     "execution_count": 951,
     "metadata": {},
     "output_type": "execute_result"
    }
   ],
   "execution_count": 951
  },
  {
   "metadata": {
    "ExecuteTime": {
     "end_time": "2025-09-16T04:38:00.391260Z",
     "start_time": "2025-09-16T04:38:00.388838Z"
    }
   },
   "cell_type": "code",
   "source": "np.zeros((3, 4, 5))",
   "id": "6d8ec83058cd3e08",
   "outputs": [
    {
     "data": {
      "text/plain": [
       "array([[[0., 0., 0., 0., 0.],\n",
       "        [0., 0., 0., 0., 0.],\n",
       "        [0., 0., 0., 0., 0.],\n",
       "        [0., 0., 0., 0., 0.]],\n",
       "\n",
       "       [[0., 0., 0., 0., 0.],\n",
       "        [0., 0., 0., 0., 0.],\n",
       "        [0., 0., 0., 0., 0.],\n",
       "        [0., 0., 0., 0., 0.]],\n",
       "\n",
       "       [[0., 0., 0., 0., 0.],\n",
       "        [0., 0., 0., 0., 0.],\n",
       "        [0., 0., 0., 0., 0.],\n",
       "        [0., 0., 0., 0., 0.]]])"
      ]
     },
     "execution_count": 952,
     "metadata": {},
     "output_type": "execute_result"
    }
   ],
   "execution_count": 952
  },
  {
   "metadata": {
    "ExecuteTime": {
     "end_time": "2025-09-16T04:38:00.418450Z",
     "start_time": "2025-09-16T04:38:00.416506Z"
    }
   },
   "cell_type": "code",
   "source": "np.ones((3, 4))",
   "id": "e2c4121569c62050",
   "outputs": [
    {
     "data": {
      "text/plain": [
       "array([[1., 1., 1., 1.],\n",
       "       [1., 1., 1., 1.],\n",
       "       [1., 1., 1., 1.]])"
      ]
     },
     "execution_count": 953,
     "metadata": {},
     "output_type": "execute_result"
    }
   ],
   "execution_count": 953
  },
  {
   "metadata": {
    "ExecuteTime": {
     "end_time": "2025-09-16T04:38:00.463372Z",
     "start_time": "2025-09-16T04:38:00.461515Z"
    }
   },
   "cell_type": "code",
   "source": "np.eye(3)",
   "id": "3088301570bd2595",
   "outputs": [
    {
     "data": {
      "text/plain": [
       "array([[1., 0., 0.],\n",
       "       [0., 1., 0.],\n",
       "       [0., 0., 1.]])"
      ]
     },
     "execution_count": 954,
     "metadata": {},
     "output_type": "execute_result"
    }
   ],
   "execution_count": 954
  },
  {
   "metadata": {
    "ExecuteTime": {
     "end_time": "2025-09-16T04:38:00.559269Z",
     "start_time": "2025-09-16T04:38:00.557343Z"
    }
   },
   "cell_type": "code",
   "source": "np.diag(a)",
   "id": "5cb6b609ecf39e20",
   "outputs": [
    {
     "data": {
      "text/plain": [
       "array([3, 3, 3, 3, 3, 3])"
      ]
     },
     "execution_count": 955,
     "metadata": {},
     "output_type": "execute_result"
    }
   ],
   "execution_count": 955
  },
  {
   "metadata": {
    "ExecuteTime": {
     "end_time": "2025-09-16T04:38:00.589352Z",
     "start_time": "2025-09-16T04:38:00.587540Z"
    }
   },
   "cell_type": "code",
   "source": "np.diag(v, 0)",
   "id": "c43199dc89a2dc4a",
   "outputs": [
    {
     "data": {
      "text/plain": [
       "array([[0.2 , 0.  , 0.  , 0.  , 0.  , 0.  ],\n",
       "       [0.  , 0.7 , 0.  , 0.  , 0.  , 0.  ],\n",
       "       [0.  , 0.  , 0.9 , 0.  , 0.  , 0.  ],\n",
       "       [0.  , 0.  , 0.  , 0.1 , 0.  , 0.  ],\n",
       "       [0.  , 0.  , 0.  , 0.  , 0.55, 0.  ],\n",
       "       [0.  , 0.  , 0.  , 0.  , 0.  , 0.8 ]])"
      ]
     },
     "execution_count": 956,
     "metadata": {},
     "output_type": "execute_result"
    }
   ],
   "execution_count": 956
  },
  {
   "metadata": {
    "ExecuteTime": {
     "end_time": "2025-09-16T04:38:00.631818Z",
     "start_time": "2025-09-16T04:38:00.629660Z"
    }
   },
   "cell_type": "code",
   "source": [
    "from numpy.random import default_rng\n",
    "rng = default_rng(42)\n",
    "rng.random((3, 4))"
   ],
   "id": "986c2ee54914206d",
   "outputs": [
    {
     "data": {
      "text/plain": [
       "array([[0.77395605, 0.43887844, 0.85859792, 0.69736803],\n",
       "       [0.09417735, 0.97562235, 0.7611397 , 0.78606431],\n",
       "       [0.12811363, 0.45038594, 0.37079802, 0.92676499]])"
      ]
     },
     "execution_count": 957,
     "metadata": {},
     "output_type": "execute_result"
    }
   ],
   "execution_count": 957
  },
  {
   "metadata": {
    "ExecuteTime": {
     "end_time": "2025-09-16T04:38:00.715297Z",
     "start_time": "2025-09-16T04:38:00.713419Z"
    }
   },
   "cell_type": "code",
   "source": "np.linspace(1,3,4)",
   "id": "8e89d2fed4a00c7",
   "outputs": [
    {
     "data": {
      "text/plain": [
       "array([1.        , 1.66666667, 2.33333333, 3.        ])"
      ]
     },
     "execution_count": 958,
     "metadata": {},
     "output_type": "execute_result"
    }
   ],
   "execution_count": 958
  },
  {
   "metadata": {
    "ExecuteTime": {
     "end_time": "2025-09-16T04:38:00.742244Z",
     "start_time": "2025-09-16T04:38:00.739639Z"
    }
   },
   "cell_type": "code",
   "source": "np.mgrid[0:9.,0:6.]",
   "id": "2417e17af7d1ce5a",
   "outputs": [
    {
     "data": {
      "text/plain": [
       "array([[[0., 0., 0., 0., 0., 0.],\n",
       "        [1., 1., 1., 1., 1., 1.],\n",
       "        [2., 2., 2., 2., 2., 2.],\n",
       "        [3., 3., 3., 3., 3., 3.],\n",
       "        [4., 4., 4., 4., 4., 4.],\n",
       "        [5., 5., 5., 5., 5., 5.],\n",
       "        [6., 6., 6., 6., 6., 6.],\n",
       "        [7., 7., 7., 7., 7., 7.],\n",
       "        [8., 8., 8., 8., 8., 8.]],\n",
       "\n",
       "       [[0., 1., 2., 3., 4., 5.],\n",
       "        [0., 1., 2., 3., 4., 5.],\n",
       "        [0., 1., 2., 3., 4., 5.],\n",
       "        [0., 1., 2., 3., 4., 5.],\n",
       "        [0., 1., 2., 3., 4., 5.],\n",
       "        [0., 1., 2., 3., 4., 5.],\n",
       "        [0., 1., 2., 3., 4., 5.],\n",
       "        [0., 1., 2., 3., 4., 5.],\n",
       "        [0., 1., 2., 3., 4., 5.]]])"
      ]
     },
     "execution_count": 959,
     "metadata": {},
     "output_type": "execute_result"
    }
   ],
   "execution_count": 959
  },
  {
   "metadata": {
    "ExecuteTime": {
     "end_time": "2025-09-16T04:38:00.768757Z",
     "start_time": "2025-09-16T04:38:00.766566Z"
    }
   },
   "cell_type": "code",
   "source": "np.ix_(np.r_[0:9.], np.r_[0:6.])",
   "id": "7802bd7e8b360e19",
   "outputs": [
    {
     "data": {
      "text/plain": [
       "(array([[0.],\n",
       "        [1.],\n",
       "        [2.],\n",
       "        [3.],\n",
       "        [4.],\n",
       "        [5.],\n",
       "        [6.],\n",
       "        [7.],\n",
       "        [8.]]),\n",
       " array([[0., 1., 2., 3., 4., 5.]]))"
      ]
     },
     "execution_count": 960,
     "metadata": {},
     "output_type": "execute_result"
    }
   ],
   "execution_count": 960
  },
  {
   "metadata": {
    "ExecuteTime": {
     "end_time": "2025-09-16T04:38:00.791298Z",
     "start_time": "2025-09-16T04:38:00.788853Z"
    }
   },
   "cell_type": "code",
   "source": "np.meshgrid([1,2,4],[2,4,5])",
   "id": "47002b6387f46814",
   "outputs": [
    {
     "data": {
      "text/plain": [
       "(array([[1, 2, 4],\n",
       "        [1, 2, 4],\n",
       "        [1, 2, 4]]),\n",
       " array([[2, 2, 2],\n",
       "        [4, 4, 4],\n",
       "        [5, 5, 5]]))"
      ]
     },
     "execution_count": 961,
     "metadata": {},
     "output_type": "execute_result"
    }
   ],
   "execution_count": 961
  },
  {
   "metadata": {
    "ExecuteTime": {
     "end_time": "2025-09-16T04:38:00.820681Z",
     "start_time": "2025-09-16T04:38:00.818971Z"
    }
   },
   "cell_type": "code",
   "source": "np.ix_([1,2,4],[2,4,5])\n",
   "id": "52135d2df4f1d282",
   "outputs": [
    {
     "data": {
      "text/plain": [
       "(array([[1],\n",
       "        [2],\n",
       "        [4]]),\n",
       " array([[2, 4, 5]]))"
      ]
     },
     "execution_count": 962,
     "metadata": {},
     "output_type": "execute_result"
    }
   ],
   "execution_count": 962
  },
  {
   "metadata": {
    "ExecuteTime": {
     "end_time": "2025-09-16T04:38:00.848580Z",
     "start_time": "2025-09-16T04:38:00.846495Z"
    }
   },
   "cell_type": "code",
   "source": "\tnp.tile(a, (2, 3))",
   "id": "1d78f2bef18f7d3",
   "outputs": [
    {
     "data": {
      "text/plain": [
       "array([[3, 3, 3, 3, 3, 3, 3, 3, 3, 3, 3, 3, 3, 3, 3, 3, 3, 3],\n",
       "       [3, 3, 3, 3, 3, 3, 3, 3, 3, 3, 3, 3, 3, 3, 3, 3, 3, 3],\n",
       "       [3, 3, 3, 3, 3, 3, 3, 3, 3, 3, 3, 3, 3, 3, 3, 3, 3, 3],\n",
       "       [3, 3, 3, 3, 3, 3, 3, 3, 3, 3, 3, 3, 3, 3, 3, 3, 3, 3],\n",
       "       [3, 3, 3, 3, 3, 3, 3, 3, 3, 3, 3, 3, 3, 3, 3, 3, 3, 3],\n",
       "       [3, 3, 3, 3, 3, 3, 3, 3, 3, 3, 3, 3, 3, 3, 3, 3, 3, 3],\n",
       "       [3, 3, 3, 3, 3, 3, 3, 3, 3, 3, 3, 3, 3, 3, 3, 3, 3, 3],\n",
       "       [3, 3, 3, 3, 3, 3, 3, 3, 3, 3, 3, 3, 3, 3, 3, 3, 3, 3],\n",
       "       [3, 3, 3, 3, 3, 3, 3, 3, 3, 3, 3, 3, 3, 3, 3, 3, 3, 3],\n",
       "       [3, 3, 3, 3, 3, 3, 3, 3, 3, 3, 3, 3, 3, 3, 3, 3, 3, 3],\n",
       "       [3, 3, 3, 3, 3, 3, 3, 3, 3, 3, 3, 3, 3, 3, 3, 3, 3, 3],\n",
       "       [3, 3, 3, 3, 3, 3, 3, 3, 3, 3, 3, 3, 3, 3, 3, 3, 3, 3],\n",
       "       [3, 3, 3, 3, 3, 3, 3, 3, 3, 3, 3, 3, 3, 3, 3, 3, 3, 3],\n",
       "       [3, 3, 3, 3, 3, 3, 3, 3, 3, 3, 3, 3, 3, 3, 3, 3, 3, 3],\n",
       "       [3, 3, 3, 3, 3, 3, 3, 3, 3, 3, 3, 3, 3, 3, 3, 3, 3, 3],\n",
       "       [3, 3, 3, 3, 3, 3, 3, 3, 3, 3, 3, 3, 3, 3, 3, 3, 3, 3],\n",
       "       [3, 3, 3, 3, 3, 3, 3, 3, 3, 3, 3, 3, 3, 3, 3, 3, 3, 3],\n",
       "       [3, 3, 3, 3, 3, 3, 3, 3, 3, 3, 3, 3, 3, 3, 3, 3, 3, 3],\n",
       "       [3, 3, 3, 3, 3, 3, 3, 3, 3, 3, 3, 3, 3, 3, 3, 3, 3, 3],\n",
       "       [3, 3, 3, 3, 3, 3, 3, 3, 3, 3, 3, 3, 3, 3, 3, 3, 3, 3]])"
      ]
     },
     "execution_count": 963,
     "metadata": {},
     "output_type": "execute_result"
    }
   ],
   "execution_count": 963
  },
  {
   "metadata": {},
   "cell_type": "markdown",
   "source": "",
   "id": "2da145ccf3c155d5"
  },
  {
   "metadata": {
    "ExecuteTime": {
     "end_time": "2025-09-16T04:38:00.891929Z",
     "start_time": "2025-09-16T04:38:00.889604Z"
    }
   },
   "cell_type": "code",
   "source": "np.concatenate((a,b),1)",
   "id": "8ead33fe158afa3",
   "outputs": [
    {
     "data": {
      "text/plain": [
       "array([[  3,   3,   3,   3,   3,   3,  61,  62,  63,  64,  65,  66],\n",
       "       [  3,   3,   3,   3,   3,   3,  67,  68,  69,  70,  71,  72],\n",
       "       [  3,   3,   3,   3,   3,   3,  73,  74,  75,  76,  77,  78],\n",
       "       [  3,   3,   3,   3,   3,   3,  79,  80,  81,  82,  83,  84],\n",
       "       [  3,   3,   3,   3,   3,   3,  85,  86,  87,  88,  89,  90],\n",
       "       [  3,   3,   3,   3,   3,   3,  91,  92,  93,  94,  95,  96],\n",
       "       [  3,   3,   3,   3,   3,   3,  97,  98,  99, 100, 101, 102],\n",
       "       [  3,   3,   3,   3,   3,   3, 103, 104, 105, 106, 107, 108],\n",
       "       [  3,   3,   3,   3,   3,   3, 109, 110, 111, 112, 113, 114],\n",
       "       [  3,   3,   3,   3,   3,   3, 115, 116, 117, 118, 119, 120]])"
      ]
     },
     "execution_count": 964,
     "metadata": {},
     "output_type": "execute_result"
    }
   ],
   "execution_count": 964
  },
  {
   "metadata": {
    "ExecuteTime": {
     "end_time": "2025-09-16T04:38:00.984489Z",
     "start_time": "2025-09-16T04:38:00.982713Z"
    }
   },
   "cell_type": "code",
   "source": "np.hstack((a,b))",
   "id": "6ccbacec1c75ce67",
   "outputs": [
    {
     "data": {
      "text/plain": [
       "array([[  3,   3,   3,   3,   3,   3,  61,  62,  63,  64,  65,  66],\n",
       "       [  3,   3,   3,   3,   3,   3,  67,  68,  69,  70,  71,  72],\n",
       "       [  3,   3,   3,   3,   3,   3,  73,  74,  75,  76,  77,  78],\n",
       "       [  3,   3,   3,   3,   3,   3,  79,  80,  81,  82,  83,  84],\n",
       "       [  3,   3,   3,   3,   3,   3,  85,  86,  87,  88,  89,  90],\n",
       "       [  3,   3,   3,   3,   3,   3,  91,  92,  93,  94,  95,  96],\n",
       "       [  3,   3,   3,   3,   3,   3,  97,  98,  99, 100, 101, 102],\n",
       "       [  3,   3,   3,   3,   3,   3, 103, 104, 105, 106, 107, 108],\n",
       "       [  3,   3,   3,   3,   3,   3, 109, 110, 111, 112, 113, 114],\n",
       "       [  3,   3,   3,   3,   3,   3, 115, 116, 117, 118, 119, 120]])"
      ]
     },
     "execution_count": 965,
     "metadata": {},
     "output_type": "execute_result"
    }
   ],
   "execution_count": 965
  },
  {
   "metadata": {
    "ExecuteTime": {
     "end_time": "2025-09-16T04:38:01.093427Z",
     "start_time": "2025-09-16T04:38:01.090848Z"
    }
   },
   "cell_type": "code",
   "source": "np.column_stack((a,b))",
   "id": "bb85aae1657524bc",
   "outputs": [
    {
     "data": {
      "text/plain": [
       "array([[  3,   3,   3,   3,   3,   3,  61,  62,  63,  64,  65,  66],\n",
       "       [  3,   3,   3,   3,   3,   3,  67,  68,  69,  70,  71,  72],\n",
       "       [  3,   3,   3,   3,   3,   3,  73,  74,  75,  76,  77,  78],\n",
       "       [  3,   3,   3,   3,   3,   3,  79,  80,  81,  82,  83,  84],\n",
       "       [  3,   3,   3,   3,   3,   3,  85,  86,  87,  88,  89,  90],\n",
       "       [  3,   3,   3,   3,   3,   3,  91,  92,  93,  94,  95,  96],\n",
       "       [  3,   3,   3,   3,   3,   3,  97,  98,  99, 100, 101, 102],\n",
       "       [  3,   3,   3,   3,   3,   3, 103, 104, 105, 106, 107, 108],\n",
       "       [  3,   3,   3,   3,   3,   3, 109, 110, 111, 112, 113, 114],\n",
       "       [  3,   3,   3,   3,   3,   3, 115, 116, 117, 118, 119, 120]])"
      ]
     },
     "execution_count": 966,
     "metadata": {},
     "output_type": "execute_result"
    }
   ],
   "execution_count": 966
  },
  {
   "metadata": {
    "ExecuteTime": {
     "end_time": "2025-09-16T04:38:01.158453Z",
     "start_time": "2025-09-16T04:38:01.156501Z"
    }
   },
   "cell_type": "code",
   "source": "np.c_[a,b]",
   "id": "7734d6f390d07dd4",
   "outputs": [
    {
     "data": {
      "text/plain": [
       "array([[  3,   3,   3,   3,   3,   3,  61,  62,  63,  64,  65,  66],\n",
       "       [  3,   3,   3,   3,   3,   3,  67,  68,  69,  70,  71,  72],\n",
       "       [  3,   3,   3,   3,   3,   3,  73,  74,  75,  76,  77,  78],\n",
       "       [  3,   3,   3,   3,   3,   3,  79,  80,  81,  82,  83,  84],\n",
       "       [  3,   3,   3,   3,   3,   3,  85,  86,  87,  88,  89,  90],\n",
       "       [  3,   3,   3,   3,   3,   3,  91,  92,  93,  94,  95,  96],\n",
       "       [  3,   3,   3,   3,   3,   3,  97,  98,  99, 100, 101, 102],\n",
       "       [  3,   3,   3,   3,   3,   3, 103, 104, 105, 106, 107, 108],\n",
       "       [  3,   3,   3,   3,   3,   3, 109, 110, 111, 112, 113, 114],\n",
       "       [  3,   3,   3,   3,   3,   3, 115, 116, 117, 118, 119, 120]])"
      ]
     },
     "execution_count": 967,
     "metadata": {},
     "output_type": "execute_result"
    }
   ],
   "execution_count": 967
  },
  {
   "metadata": {
    "ExecuteTime": {
     "end_time": "2025-09-16T04:38:01.279617Z",
     "start_time": "2025-09-16T04:38:01.277816Z"
    }
   },
   "cell_type": "code",
   "source": "np.concatenate((a,b))",
   "id": "468fcd773df620f",
   "outputs": [
    {
     "data": {
      "text/plain": [
       "array([[  3,   3,   3,   3,   3,   3],\n",
       "       [  3,   3,   3,   3,   3,   3],\n",
       "       [  3,   3,   3,   3,   3,   3],\n",
       "       [  3,   3,   3,   3,   3,   3],\n",
       "       [  3,   3,   3,   3,   3,   3],\n",
       "       [  3,   3,   3,   3,   3,   3],\n",
       "       [  3,   3,   3,   3,   3,   3],\n",
       "       [  3,   3,   3,   3,   3,   3],\n",
       "       [  3,   3,   3,   3,   3,   3],\n",
       "       [  3,   3,   3,   3,   3,   3],\n",
       "       [ 61,  62,  63,  64,  65,  66],\n",
       "       [ 67,  68,  69,  70,  71,  72],\n",
       "       [ 73,  74,  75,  76,  77,  78],\n",
       "       [ 79,  80,  81,  82,  83,  84],\n",
       "       [ 85,  86,  87,  88,  89,  90],\n",
       "       [ 91,  92,  93,  94,  95,  96],\n",
       "       [ 97,  98,  99, 100, 101, 102],\n",
       "       [103, 104, 105, 106, 107, 108],\n",
       "       [109, 110, 111, 112, 113, 114],\n",
       "       [115, 116, 117, 118, 119, 120]])"
      ]
     },
     "execution_count": 968,
     "metadata": {},
     "output_type": "execute_result"
    }
   ],
   "execution_count": 968
  },
  {
   "metadata": {
    "ExecuteTime": {
     "end_time": "2025-09-16T04:38:01.353866Z",
     "start_time": "2025-09-16T04:38:01.352112Z"
    }
   },
   "cell_type": "code",
   "source": "np.vstack((a,b))",
   "id": "2ac7d40b892d60cf",
   "outputs": [
    {
     "data": {
      "text/plain": [
       "array([[  3,   3,   3,   3,   3,   3],\n",
       "       [  3,   3,   3,   3,   3,   3],\n",
       "       [  3,   3,   3,   3,   3,   3],\n",
       "       [  3,   3,   3,   3,   3,   3],\n",
       "       [  3,   3,   3,   3,   3,   3],\n",
       "       [  3,   3,   3,   3,   3,   3],\n",
       "       [  3,   3,   3,   3,   3,   3],\n",
       "       [  3,   3,   3,   3,   3,   3],\n",
       "       [  3,   3,   3,   3,   3,   3],\n",
       "       [  3,   3,   3,   3,   3,   3],\n",
       "       [ 61,  62,  63,  64,  65,  66],\n",
       "       [ 67,  68,  69,  70,  71,  72],\n",
       "       [ 73,  74,  75,  76,  77,  78],\n",
       "       [ 79,  80,  81,  82,  83,  84],\n",
       "       [ 85,  86,  87,  88,  89,  90],\n",
       "       [ 91,  92,  93,  94,  95,  96],\n",
       "       [ 97,  98,  99, 100, 101, 102],\n",
       "       [103, 104, 105, 106, 107, 108],\n",
       "       [109, 110, 111, 112, 113, 114],\n",
       "       [115, 116, 117, 118, 119, 120]])"
      ]
     },
     "execution_count": 969,
     "metadata": {},
     "output_type": "execute_result"
    }
   ],
   "execution_count": 969
  },
  {
   "metadata": {
    "ExecuteTime": {
     "end_time": "2025-09-16T04:38:01.470122Z",
     "start_time": "2025-09-16T04:38:01.468356Z"
    }
   },
   "cell_type": "code",
   "source": "np.r_[a,b]",
   "id": "29d16e0273ca244a",
   "outputs": [
    {
     "data": {
      "text/plain": [
       "array([[  3,   3,   3,   3,   3,   3],\n",
       "       [  3,   3,   3,   3,   3,   3],\n",
       "       [  3,   3,   3,   3,   3,   3],\n",
       "       [  3,   3,   3,   3,   3,   3],\n",
       "       [  3,   3,   3,   3,   3,   3],\n",
       "       [  3,   3,   3,   3,   3,   3],\n",
       "       [  3,   3,   3,   3,   3,   3],\n",
       "       [  3,   3,   3,   3,   3,   3],\n",
       "       [  3,   3,   3,   3,   3,   3],\n",
       "       [  3,   3,   3,   3,   3,   3],\n",
       "       [ 61,  62,  63,  64,  65,  66],\n",
       "       [ 67,  68,  69,  70,  71,  72],\n",
       "       [ 73,  74,  75,  76,  77,  78],\n",
       "       [ 79,  80,  81,  82,  83,  84],\n",
       "       [ 85,  86,  87,  88,  89,  90],\n",
       "       [ 91,  92,  93,  94,  95,  96],\n",
       "       [ 97,  98,  99, 100, 101, 102],\n",
       "       [103, 104, 105, 106, 107, 108],\n",
       "       [109, 110, 111, 112, 113, 114],\n",
       "       [115, 116, 117, 118, 119, 120]])"
      ]
     },
     "execution_count": 970,
     "metadata": {},
     "output_type": "execute_result"
    }
   ],
   "execution_count": 970
  },
  {
   "metadata": {
    "ExecuteTime": {
     "end_time": "2025-09-16T04:38:01.615586Z",
     "start_time": "2025-09-16T04:38:01.613837Z"
    }
   },
   "cell_type": "code",
   "source": "a.max()",
   "id": "3751c8473ded943a",
   "outputs": [
    {
     "data": {
      "text/plain": [
       "np.int64(3)"
      ]
     },
     "execution_count": 971,
     "metadata": {},
     "output_type": "execute_result"
    }
   ],
   "execution_count": 971
  },
  {
   "metadata": {
    "ExecuteTime": {
     "end_time": "2025-09-16T04:38:01.678684Z",
     "start_time": "2025-09-16T04:38:01.677073Z"
    }
   },
   "cell_type": "code",
   "source": "np.nanmax(a)",
   "id": "f8451f20ab25e5d4",
   "outputs": [
    {
     "data": {
      "text/plain": [
       "np.int64(3)"
      ]
     },
     "execution_count": 972,
     "metadata": {},
     "output_type": "execute_result"
    }
   ],
   "execution_count": 972
  },
  {
   "metadata": {
    "ExecuteTime": {
     "end_time": "2025-09-16T04:38:01.722599Z",
     "start_time": "2025-09-16T04:38:01.719042Z"
    }
   },
   "cell_type": "code",
   "source": "a.max(0)",
   "id": "d4981c0a70375196",
   "outputs": [
    {
     "data": {
      "text/plain": [
       "array([3, 3, 3, 3, 3, 3])"
      ]
     },
     "execution_count": 973,
     "metadata": {},
     "output_type": "execute_result"
    }
   ],
   "execution_count": 973
  },
  {
   "metadata": {
    "ExecuteTime": {
     "end_time": "2025-09-16T04:38:01.745618Z",
     "start_time": "2025-09-16T04:38:01.743383Z"
    }
   },
   "cell_type": "code",
   "source": "a.max(1)",
   "id": "1baad4861136ae53",
   "outputs": [
    {
     "data": {
      "text/plain": [
       "array([3, 3, 3, 3, 3, 3, 3, 3, 3, 3])"
      ]
     },
     "execution_count": 974,
     "metadata": {},
     "output_type": "execute_result"
    }
   ],
   "execution_count": 974
  },
  {
   "metadata": {
    "ExecuteTime": {
     "end_time": "2025-09-16T04:38:01.765642Z",
     "start_time": "2025-09-16T04:38:01.763808Z"
    }
   },
   "cell_type": "code",
   "source": "np.maximum(a, b)",
   "id": "a7ee205f9477a320",
   "outputs": [
    {
     "data": {
      "text/plain": [
       "array([[ 61,  62,  63,  64,  65,  66],\n",
       "       [ 67,  68,  69,  70,  71,  72],\n",
       "       [ 73,  74,  75,  76,  77,  78],\n",
       "       [ 79,  80,  81,  82,  83,  84],\n",
       "       [ 85,  86,  87,  88,  89,  90],\n",
       "       [ 91,  92,  93,  94,  95,  96],\n",
       "       [ 97,  98,  99, 100, 101, 102],\n",
       "       [103, 104, 105, 106, 107, 108],\n",
       "       [109, 110, 111, 112, 113, 114],\n",
       "       [115, 116, 117, 118, 119, 120]])"
      ]
     },
     "execution_count": 975,
     "metadata": {},
     "output_type": "execute_result"
    }
   ],
   "execution_count": 975
  },
  {
   "metadata": {
    "ExecuteTime": {
     "end_time": "2025-09-16T04:38:01.803461Z",
     "start_time": "2025-09-16T04:38:01.801751Z"
    }
   },
   "cell_type": "code",
   "source": "np.sqrt(v @ v)",
   "id": "8e8e62b9b29f75b8",
   "outputs": [
    {
     "data": {
      "text/plain": [
       "np.float64(1.514100392972672)"
      ]
     },
     "execution_count": 976,
     "metadata": {},
     "output_type": "execute_result"
    }
   ],
   "execution_count": 976
  },
  {
   "metadata": {
    "ExecuteTime": {
     "end_time": "2025-09-16T04:38:01.867761Z",
     "start_time": "2025-09-16T04:38:01.865898Z"
    }
   },
   "cell_type": "code",
   "source": "np.linalg.norm(v)",
   "id": "cdcf4ec1c4649764",
   "outputs": [
    {
     "data": {
      "text/plain": [
       "np.float64(1.514100392972672)"
      ]
     },
     "execution_count": 977,
     "metadata": {},
     "output_type": "execute_result"
    }
   ],
   "execution_count": 977
  },
  {
   "metadata": {
    "ExecuteTime": {
     "end_time": "2025-09-16T04:38:01.897851Z",
     "start_time": "2025-09-16T04:38:01.896065Z"
    }
   },
   "cell_type": "code",
   "source": "np.logical_and(a, b)",
   "id": "1b6a2e96d1da9f4",
   "outputs": [
    {
     "data": {
      "text/plain": [
       "array([[ True,  True,  True,  True,  True,  True],\n",
       "       [ True,  True,  True,  True,  True,  True],\n",
       "       [ True,  True,  True,  True,  True,  True],\n",
       "       [ True,  True,  True,  True,  True,  True],\n",
       "       [ True,  True,  True,  True,  True,  True],\n",
       "       [ True,  True,  True,  True,  True,  True],\n",
       "       [ True,  True,  True,  True,  True,  True],\n",
       "       [ True,  True,  True,  True,  True,  True],\n",
       "       [ True,  True,  True,  True,  True,  True],\n",
       "       [ True,  True,  True,  True,  True,  True]])"
      ]
     },
     "execution_count": 978,
     "metadata": {},
     "output_type": "execute_result"
    }
   ],
   "execution_count": 978
  },
  {
   "metadata": {
    "ExecuteTime": {
     "end_time": "2025-09-16T04:38:01.944334Z",
     "start_time": "2025-09-16T04:38:01.942581Z"
    }
   },
   "cell_type": "code",
   "source": "np.logical_or(a,b)",
   "id": "5fce85131020f87",
   "outputs": [
    {
     "data": {
      "text/plain": [
       "array([[ True,  True,  True,  True,  True,  True],\n",
       "       [ True,  True,  True,  True,  True,  True],\n",
       "       [ True,  True,  True,  True,  True,  True],\n",
       "       [ True,  True,  True,  True,  True,  True],\n",
       "       [ True,  True,  True,  True,  True,  True],\n",
       "       [ True,  True,  True,  True,  True,  True],\n",
       "       [ True,  True,  True,  True,  True,  True],\n",
       "       [ True,  True,  True,  True,  True,  True],\n",
       "       [ True,  True,  True,  True,  True,  True],\n",
       "       [ True,  True,  True,  True,  True,  True]])"
      ]
     },
     "execution_count": 979,
     "metadata": {},
     "output_type": "execute_result"
    }
   ],
   "execution_count": 979
  },
  {
   "metadata": {
    "ExecuteTime": {
     "end_time": "2025-09-16T04:38:02.057661Z",
     "start_time": "2025-09-16T04:38:02.055453Z"
    }
   },
   "cell_type": "code",
   "source": "a & b",
   "id": "99e1e7e81b7008e8",
   "outputs": [
    {
     "data": {
      "text/plain": [
       "array([[1, 2, 3, 0, 1, 2],\n",
       "       [3, 0, 1, 2, 3, 0],\n",
       "       [1, 2, 3, 0, 1, 2],\n",
       "       [3, 0, 1, 2, 3, 0],\n",
       "       [1, 2, 3, 0, 1, 2],\n",
       "       [3, 0, 1, 2, 3, 0],\n",
       "       [1, 2, 3, 0, 1, 2],\n",
       "       [3, 0, 1, 2, 3, 0],\n",
       "       [1, 2, 3, 0, 1, 2],\n",
       "       [3, 0, 1, 2, 3, 0]])"
      ]
     },
     "execution_count": 980,
     "metadata": {},
     "output_type": "execute_result"
    }
   ],
   "execution_count": 980
  },
  {
   "metadata": {
    "ExecuteTime": {
     "end_time": "2025-09-16T04:38:02.130166Z",
     "start_time": "2025-09-16T04:38:02.128069Z"
    }
   },
   "cell_type": "code",
   "source": "a | b",
   "id": "f54859e27e6c44cf",
   "outputs": [
    {
     "data": {
      "text/plain": [
       "array([[ 63,  63,  63,  67,  67,  67],\n",
       "       [ 67,  71,  71,  71,  71,  75],\n",
       "       [ 75,  75,  75,  79,  79,  79],\n",
       "       [ 79,  83,  83,  83,  83,  87],\n",
       "       [ 87,  87,  87,  91,  91,  91],\n",
       "       [ 91,  95,  95,  95,  95,  99],\n",
       "       [ 99,  99,  99, 103, 103, 103],\n",
       "       [103, 107, 107, 107, 107, 111],\n",
       "       [111, 111, 111, 115, 115, 115],\n",
       "       [115, 119, 119, 119, 119, 123]])"
      ]
     },
     "execution_count": 981,
     "metadata": {},
     "output_type": "execute_result"
    }
   ],
   "execution_count": 981
  },
  {
   "metadata": {
    "ExecuteTime": {
     "end_time": "2025-09-16T04:38:02.253868Z",
     "start_time": "2025-09-16T04:38:02.251738Z"
    }
   },
   "cell_type": "code",
   "source": [
    "\n",
    "a2 = np.array([[3., 1., 2.],\n",
    "               [1., 4., 5.],\n",
    "               [2., 5., 6.]])\n",
    "linalg.inv(a2)\n"
   ],
   "id": "ca719777258fe3f8",
   "outputs": [
    {
     "data": {
      "text/plain": [
       "array([[ 0.2, -0.8,  0.6],\n",
       "       [-0.8, -2.8,  2.6],\n",
       "       [ 0.6,  2.6, -2.2]])"
      ]
     },
     "execution_count": 982,
     "metadata": {},
     "output_type": "execute_result"
    }
   ],
   "execution_count": 982
  },
  {
   "metadata": {
    "ExecuteTime": {
     "end_time": "2025-09-16T04:38:02.339115Z",
     "start_time": "2025-09-16T04:38:02.337136Z"
    }
   },
   "cell_type": "code",
   "source": "linalg.pinv(a)",
   "id": "a9e7912e4206427f",
   "outputs": [
    {
     "data": {
      "text/plain": [
       "array([[0.00555556, 0.00555556, 0.00555556, 0.00555556, 0.00555556,\n",
       "        0.00555556, 0.00555556, 0.00555556, 0.00555556, 0.00555556],\n",
       "       [0.00555556, 0.00555556, 0.00555556, 0.00555556, 0.00555556,\n",
       "        0.00555556, 0.00555556, 0.00555556, 0.00555556, 0.00555556],\n",
       "       [0.00555556, 0.00555556, 0.00555556, 0.00555556, 0.00555556,\n",
       "        0.00555556, 0.00555556, 0.00555556, 0.00555556, 0.00555556],\n",
       "       [0.00555556, 0.00555556, 0.00555556, 0.00555556, 0.00555556,\n",
       "        0.00555556, 0.00555556, 0.00555556, 0.00555556, 0.00555556],\n",
       "       [0.00555556, 0.00555556, 0.00555556, 0.00555556, 0.00555556,\n",
       "        0.00555556, 0.00555556, 0.00555556, 0.00555556, 0.00555556],\n",
       "       [0.00555556, 0.00555556, 0.00555556, 0.00555556, 0.00555556,\n",
       "        0.00555556, 0.00555556, 0.00555556, 0.00555556, 0.00555556]])"
      ]
     },
     "execution_count": 983,
     "metadata": {},
     "output_type": "execute_result"
    }
   ],
   "execution_count": 983
  },
  {
   "metadata": {
    "ExecuteTime": {
     "end_time": "2025-09-16T04:38:02.437475Z",
     "start_time": "2025-09-16T04:38:02.435719Z"
    }
   },
   "cell_type": "code",
   "source": "np.linalg.matrix_rank(a)",
   "id": "92e18cbd9b8f593d",
   "outputs": [
    {
     "data": {
      "text/plain": [
       "np.int64(1)"
      ]
     },
     "execution_count": 984,
     "metadata": {},
     "output_type": "execute_result"
    }
   ],
   "execution_count": 984
  },
  {
   "metadata": {
    "ExecuteTime": {
     "end_time": "2025-09-16T04:38:02.470673Z",
     "start_time": "2025-09-16T04:38:02.468706Z"
    }
   },
   "cell_type": "code",
   "source": "linalg.lstsq(a, b)",
   "id": "5fc794aedfc3743a",
   "outputs": [
    {
     "data": {
      "text/plain": [
       "(array([[4.88888889, 4.94444444, 5.        , 5.05555556, 5.11111111,\n",
       "         5.16666667],\n",
       "        [4.88888889, 4.94444444, 5.        , 5.05555556, 5.11111111,\n",
       "         5.16666667],\n",
       "        [4.88888889, 4.94444444, 5.        , 5.05555556, 5.11111111,\n",
       "         5.16666667],\n",
       "        [4.88888889, 4.94444444, 5.        , 5.05555556, 5.11111111,\n",
       "         5.16666667],\n",
       "        [4.88888889, 4.94444444, 5.        , 5.05555556, 5.11111111,\n",
       "         5.16666667],\n",
       "        [4.88888889, 4.94444444, 5.        , 5.05555556, 5.11111111,\n",
       "         5.16666667]]),\n",
       " array([], dtype=float64),\n",
       " 1,\n",
       " array([2.32379001e+01, 5.61666131e-16, 0.00000000e+00, 0.00000000e+00,\n",
       "        0.00000000e+00, 0.00000000e+00]))"
      ]
     },
     "execution_count": 985,
     "metadata": {},
     "output_type": "execute_result"
    }
   ],
   "execution_count": 985
  },
  {
   "metadata": {
    "ExecuteTime": {
     "end_time": "2025-09-16T04:38:02.500332Z",
     "start_time": "2025-09-16T04:38:02.498191Z"
    }
   },
   "cell_type": "code",
   "source": [
    "X, *_ = la.lstsq(a.T, b.T)\n",
    "X = X.T\n",
    "X"
   ],
   "id": "ede8903dead5d94b",
   "outputs": [
    {
     "data": {
      "text/plain": [
       "array([[2.11666667, 2.11666667, 2.11666667, 2.11666667, 2.11666667,\n",
       "        2.11666667, 2.11666667, 2.11666667, 2.11666667, 2.11666667],\n",
       "       [2.31666667, 2.31666667, 2.31666667, 2.31666667, 2.31666667,\n",
       "        2.31666667, 2.31666667, 2.31666667, 2.31666667, 2.31666667],\n",
       "       [2.51666667, 2.51666667, 2.51666667, 2.51666667, 2.51666667,\n",
       "        2.51666667, 2.51666667, 2.51666667, 2.51666667, 2.51666667],\n",
       "       [2.71666667, 2.71666667, 2.71666667, 2.71666667, 2.71666667,\n",
       "        2.71666667, 2.71666667, 2.71666667, 2.71666667, 2.71666667],\n",
       "       [2.91666667, 2.91666667, 2.91666667, 2.91666667, 2.91666667,\n",
       "        2.91666667, 2.91666667, 2.91666667, 2.91666667, 2.91666667],\n",
       "       [3.11666667, 3.11666667, 3.11666667, 3.11666667, 3.11666667,\n",
       "        3.11666667, 3.11666667, 3.11666667, 3.11666667, 3.11666667],\n",
       "       [3.31666667, 3.31666667, 3.31666667, 3.31666667, 3.31666667,\n",
       "        3.31666667, 3.31666667, 3.31666667, 3.31666667, 3.31666667],\n",
       "       [3.51666667, 3.51666667, 3.51666667, 3.51666667, 3.51666667,\n",
       "        3.51666667, 3.51666667, 3.51666667, 3.51666667, 3.51666667],\n",
       "       [3.71666667, 3.71666667, 3.71666667, 3.71666667, 3.71666667,\n",
       "        3.71666667, 3.71666667, 3.71666667, 3.71666667, 3.71666667],\n",
       "       [3.91666667, 3.91666667, 3.91666667, 3.91666667, 3.91666667,\n",
       "        3.91666667, 3.91666667, 3.91666667, 3.91666667, 3.91666667]])"
      ]
     },
     "execution_count": 986,
     "metadata": {},
     "output_type": "execute_result"
    }
   ],
   "execution_count": 986
  },
  {
   "metadata": {
    "ExecuteTime": {
     "end_time": "2025-09-16T04:38:02.543050Z",
     "start_time": "2025-09-16T04:38:02.540532Z"
    }
   },
   "cell_type": "code",
   "source": [
    "\n",
    "U, S, Vh = linalg.svd(a); V = Vh.T\n",
    "print(U,S,Vh)"
   ],
   "id": "b94db4683f28966c",
   "outputs": [
    {
     "name": "stdout",
     "output_type": "stream",
     "text": [
      "[[-3.16227766e-01  9.48683298e-01 -1.46284728e-18 -1.46284728e-18\n",
      "   1.68034824e-17  1.68034824e-17 -1.46284728e-18 -1.46284728e-18\n",
      "  -6.02942969e-18 -1.56967162e-17]\n",
      " [-3.16227766e-01 -1.05409255e-01 -3.33333333e-01 -3.33333333e-01\n",
      "  -3.33333333e-01 -3.33333333e-01 -3.33333333e-01 -3.33333333e-01\n",
      "  -3.33333333e-01 -3.33333333e-01]\n",
      " [-3.16227766e-01 -1.05409255e-01 -8.33333333e-02 -8.33333333e-02\n",
      "  -8.33333333e-02  9.16666667e-01 -8.33333333e-02 -8.33333333e-02\n",
      "  -8.33333333e-02 -8.33333333e-02]\n",
      " [-3.16227766e-01 -1.05409255e-01 -8.33333333e-02 -8.33333333e-02\n",
      "   9.16666667e-01 -8.33333333e-02 -8.33333333e-02 -8.33333333e-02\n",
      "  -8.33333333e-02 -8.33333333e-02]\n",
      " [-3.16227766e-01 -1.05409255e-01  9.16666667e-01 -8.33333333e-02\n",
      "  -8.33333333e-02 -8.33333333e-02 -8.33333333e-02 -8.33333333e-02\n",
      "  -8.33333333e-02 -8.33333333e-02]\n",
      " [-3.16227766e-01 -1.05409255e-01 -8.33333333e-02  9.16666667e-01\n",
      "  -8.33333333e-02 -8.33333333e-02 -8.33333333e-02 -8.33333333e-02\n",
      "  -8.33333333e-02 -8.33333333e-02]\n",
      " [-3.16227766e-01 -1.05409255e-01 -8.33333333e-02 -8.33333333e-02\n",
      "  -8.33333333e-02 -8.33333333e-02  9.16666667e-01 -8.33333333e-02\n",
      "  -8.33333333e-02 -8.33333333e-02]\n",
      " [-3.16227766e-01 -1.05409255e-01 -8.33333333e-02 -8.33333333e-02\n",
      "  -8.33333333e-02 -8.33333333e-02 -8.33333333e-02  9.16666667e-01\n",
      "  -8.33333333e-02 -8.33333333e-02]\n",
      " [-3.16227766e-01 -1.05409255e-01 -8.33333333e-02 -8.33333333e-02\n",
      "  -8.33333333e-02 -8.33333333e-02 -8.33333333e-02 -8.33333333e-02\n",
      "   9.16666667e-01 -8.33333333e-02]\n",
      " [-3.16227766e-01 -1.05409255e-01 -8.33333333e-02 -8.33333333e-02\n",
      "  -8.33333333e-02 -8.33333333e-02 -8.33333333e-02 -8.33333333e-02\n",
      "  -8.33333333e-02  9.16666667e-01]] [2.32379001e+01 5.61666131e-16 0.00000000e+00 0.00000000e+00\n",
      " 0.00000000e+00 0.00000000e+00] [[-4.08248290e-01 -4.08248290e-01 -4.08248290e-01 -4.08248290e-01\n",
      "  -4.08248290e-01 -4.08248290e-01]\n",
      " [ 9.12870929e-01 -1.82574186e-01 -1.82574186e-01 -1.82574186e-01\n",
      "  -1.82574186e-01 -1.82574186e-01]\n",
      " [ 0.00000000e+00 -2.42216801e-17 -5.00000000e-01 -1.66666667e-01\n",
      "   8.33333333e-01 -1.66666667e-01]\n",
      " [ 0.00000000e+00 -5.67184741e-17 -5.00000000e-01 -1.66666667e-01\n",
      "  -1.66666667e-01  8.33333333e-01]\n",
      " [ 0.00000000e+00 -2.42216801e-17 -5.00000000e-01  8.33333333e-01\n",
      "  -1.66666667e-01 -1.66666667e-01]\n",
      " [ 0.00000000e+00  8.94427191e-01 -2.23606798e-01 -2.23606798e-01\n",
      "  -2.23606798e-01 -2.23606798e-01]]\n"
     ]
    }
   ],
   "execution_count": 987
  },
  {
   "metadata": {
    "ExecuteTime": {
     "end_time": "2025-09-16T04:38:02.655936Z",
     "start_time": "2025-09-16T04:38:02.653176Z"
    }
   },
   "cell_type": "code",
   "source": [
    "cholesky = np.array([[3., 1.],\n",
    "               [1., 2.]])\n",
    "\n",
    "L = la.cholesky(cholesky)\n",
    "L"
   ],
   "id": "7c9f3bb8f78160f7",
   "outputs": [
    {
     "data": {
      "text/plain": [
       "array([[1.73205081, 0.57735027],\n",
       "       [0.        , 1.29099445]])"
      ]
     },
     "execution_count": 988,
     "metadata": {},
     "output_type": "execute_result"
    }
   ],
   "execution_count": 988
  },
  {
   "metadata": {
    "ExecuteTime": {
     "end_time": "2025-09-16T04:38:02.702167Z",
     "start_time": "2025-09-16T04:38:02.700165Z"
    }
   },
   "cell_type": "code",
   "source": [
    "D,V = linalg.eig(a2)\n",
    "\n",
    "print(D)\n",
    "print(V)\n",
    "\n"
   ],
   "id": "122b451b463bfbe9",
   "outputs": [
    {
     "name": "stdout",
     "output_type": "stream",
     "text": [
      "[10.71704321+0.j  2.47171128+0.j -0.18875449+0.j]\n",
      "[[ 0.27264929  0.94543361 -0.17837501]\n",
      " [ 0.60027549 -0.31204863 -0.73640681]\n",
      " [ 0.75188543 -0.09370664  0.65260047]]\n"
     ]
    }
   ],
   "execution_count": 989
  },
  {
   "metadata": {
    "ExecuteTime": {
     "end_time": "2025-09-16T04:38:02.810581Z",
     "start_time": "2025-09-16T04:38:02.808414Z"
    }
   },
   "cell_type": "code",
   "source": [
    "a2 = np.array([[3., 1.],\n",
    "               [1., 2.]])\n",
    "D, V = linalg.eig(a2, c)\n",
    "\n",
    "print(D)\n",
    "print(V)"
   ],
   "id": "2573688e7099a8ca",
   "outputs": [
    {
     "name": "stdout",
     "output_type": "stream",
     "text": [
      "[-5. +0.j  0.5+0.j]\n",
      "[[ 8.08736084e-01 -8.97877422e-17]\n",
      " [-5.88171698e-01  1.00000000e+00]]\n"
     ]
    }
   ],
   "execution_count": 990
  },
  {
   "metadata": {
    "ExecuteTime": {
     "end_time": "2025-09-16T04:38:02.849951Z",
     "start_time": "2025-09-16T04:38:02.847849Z"
    }
   },
   "cell_type": "code",
   "source": [
    "D, V = linalg.eig(a2)\n",
    "print(D)\n",
    "print(V)"
   ],
   "id": "3591a76f7f14e692",
   "outputs": [
    {
     "name": "stdout",
     "output_type": "stream",
     "text": [
      "[3.61803399+0.j 1.38196601+0.j]\n",
      "[[ 0.85065081 -0.52573111]\n",
      " [ 0.52573111  0.85065081]]\n"
     ]
    }
   ],
   "execution_count": 991
  },
  {
   "metadata": {
    "ExecuteTime": {
     "end_time": "2025-09-16T04:38:02.878741Z",
     "start_time": "2025-09-16T04:38:02.876008Z"
    }
   },
   "cell_type": "code",
   "source": [
    "Q,R = linalg.qr(a)\n",
    "print(Q)\n",
    "print(R)"
   ],
   "id": "f9139d88ec91d5b",
   "outputs": [
    {
     "name": "stdout",
     "output_type": "stream",
     "text": [
      "[[-3.16227766e-01  9.48683298e-01  1.68034824e-17  1.68034824e-17\n",
      "  -1.46284728e-18 -1.46284728e-18 -1.46284728e-18 -1.46284728e-18\n",
      "  -6.02942969e-18 -1.56967162e-17]\n",
      " [-3.16227766e-01 -1.05409255e-01 -3.33333333e-01 -3.33333333e-01\n",
      "  -3.33333333e-01 -3.33333333e-01 -3.33333333e-01 -3.33333333e-01\n",
      "  -3.33333333e-01 -3.33333333e-01]\n",
      " [-3.16227766e-01 -1.05409255e-01  9.16666667e-01 -8.33333333e-02\n",
      "  -8.33333333e-02 -8.33333333e-02 -8.33333333e-02 -8.33333333e-02\n",
      "  -8.33333333e-02 -8.33333333e-02]\n",
      " [-3.16227766e-01 -1.05409255e-01 -8.33333333e-02  9.16666667e-01\n",
      "  -8.33333333e-02 -8.33333333e-02 -8.33333333e-02 -8.33333333e-02\n",
      "  -8.33333333e-02 -8.33333333e-02]\n",
      " [-3.16227766e-01 -1.05409255e-01 -8.33333333e-02 -8.33333333e-02\n",
      "   9.16666667e-01 -8.33333333e-02 -8.33333333e-02 -8.33333333e-02\n",
      "  -8.33333333e-02 -8.33333333e-02]\n",
      " [-3.16227766e-01 -1.05409255e-01 -8.33333333e-02 -8.33333333e-02\n",
      "  -8.33333333e-02  9.16666667e-01 -8.33333333e-02 -8.33333333e-02\n",
      "  -8.33333333e-02 -8.33333333e-02]\n",
      " [-3.16227766e-01 -1.05409255e-01 -8.33333333e-02 -8.33333333e-02\n",
      "  -8.33333333e-02 -8.33333333e-02  9.16666667e-01 -8.33333333e-02\n",
      "  -8.33333333e-02 -8.33333333e-02]\n",
      " [-3.16227766e-01 -1.05409255e-01 -8.33333333e-02 -8.33333333e-02\n",
      "  -8.33333333e-02 -8.33333333e-02 -8.33333333e-02  9.16666667e-01\n",
      "  -8.33333333e-02 -8.33333333e-02]\n",
      " [-3.16227766e-01 -1.05409255e-01 -8.33333333e-02 -8.33333333e-02\n",
      "  -8.33333333e-02 -8.33333333e-02 -8.33333333e-02 -8.33333333e-02\n",
      "   9.16666667e-01 -8.33333333e-02]\n",
      " [-3.16227766e-01 -1.05409255e-01 -8.33333333e-02 -8.33333333e-02\n",
      "  -8.33333333e-02 -8.33333333e-02 -8.33333333e-02 -8.33333333e-02\n",
      "  -8.33333333e-02  9.16666667e-01]]\n",
      "[[-9.48683298e+00 -9.48683298e+00 -9.48683298e+00 -9.48683298e+00\n",
      "  -9.48683298e+00 -9.48683298e+00]\n",
      " [ 0.00000000e+00 -6.15274419e-16 -6.15274419e-16 -6.15274419e-16\n",
      "  -6.15274419e-16 -6.15274419e-16]\n",
      " [ 0.00000000e+00  0.00000000e+00  0.00000000e+00  0.00000000e+00\n",
      "   0.00000000e+00  0.00000000e+00]\n",
      " [ 0.00000000e+00  0.00000000e+00  0.00000000e+00  0.00000000e+00\n",
      "   0.00000000e+00  0.00000000e+00]\n",
      " [ 0.00000000e+00  0.00000000e+00  0.00000000e+00  0.00000000e+00\n",
      "   0.00000000e+00  0.00000000e+00]\n",
      " [ 0.00000000e+00  0.00000000e+00  0.00000000e+00  0.00000000e+00\n",
      "   0.00000000e+00  0.00000000e+00]\n",
      " [ 0.00000000e+00  0.00000000e+00  0.00000000e+00  0.00000000e+00\n",
      "   0.00000000e+00  0.00000000e+00]\n",
      " [ 0.00000000e+00  0.00000000e+00  0.00000000e+00  0.00000000e+00\n",
      "   0.00000000e+00  0.00000000e+00]\n",
      " [ 0.00000000e+00  0.00000000e+00  0.00000000e+00  0.00000000e+00\n",
      "   0.00000000e+00  0.00000000e+00]\n",
      " [ 0.00000000e+00  0.00000000e+00  0.00000000e+00  0.00000000e+00\n",
      "   0.00000000e+00  0.00000000e+00]]\n"
     ]
    }
   ],
   "execution_count": 992
  },
  {
   "metadata": {
    "ExecuteTime": {
     "end_time": "2025-09-16T04:38:02.900485Z",
     "start_time": "2025-09-16T04:38:02.898301Z"
    }
   },
   "cell_type": "code",
   "source": [
    "P,L,U = linalg.lu(a)\n",
    "print(P)\n",
    "print(L)\n",
    "print(U)\n",
    "print(a == P@L@U)"
   ],
   "id": "e12294bcf786509d",
   "outputs": [
    {
     "name": "stdout",
     "output_type": "stream",
     "text": [
      "[[1. 0. 0. 0. 0. 0. 0. 0. 0. 0.]\n",
      " [0. 1. 0. 0. 0. 0. 0. 0. 0. 0.]\n",
      " [0. 0. 1. 0. 0. 0. 0. 0. 0. 0.]\n",
      " [0. 0. 0. 1. 0. 0. 0. 0. 0. 0.]\n",
      " [0. 0. 0. 0. 1. 0. 0. 0. 0. 0.]\n",
      " [0. 0. 0. 0. 0. 1. 0. 0. 0. 0.]\n",
      " [0. 0. 0. 0. 0. 0. 1. 0. 0. 0.]\n",
      " [0. 0. 0. 0. 0. 0. 0. 1. 0. 0.]\n",
      " [0. 0. 0. 0. 0. 0. 0. 0. 1. 0.]\n",
      " [0. 0. 0. 0. 0. 0. 0. 0. 0. 1.]]\n",
      "[[1. 0. 0. 0. 0. 0.]\n",
      " [1. 1. 0. 0. 0. 0.]\n",
      " [1. 0. 1. 0. 0. 0.]\n",
      " [1. 0. 0. 1. 0. 0.]\n",
      " [1. 0. 0. 0. 1. 0.]\n",
      " [1. 0. 0. 0. 0. 1.]\n",
      " [1. 0. 0. 0. 0. 0.]\n",
      " [1. 0. 0. 0. 0. 0.]\n",
      " [1. 0. 0. 0. 0. 0.]\n",
      " [1. 0. 0. 0. 0. 0.]]\n",
      "[[3. 3. 3. 3. 3. 3.]\n",
      " [0. 0. 0. 0. 0. 0.]\n",
      " [0. 0. 0. 0. 0. 0.]\n",
      " [0. 0. 0. 0. 0. 0.]\n",
      " [0. 0. 0. 0. 0. 0.]\n",
      " [0. 0. 0. 0. 0. 0.]]\n",
      "[[ True  True  True  True  True  True]\n",
      " [ True  True  True  True  True  True]\n",
      " [ True  True  True  True  True  True]\n",
      " [ True  True  True  True  True  True]\n",
      " [ True  True  True  True  True  True]\n",
      " [ True  True  True  True  True  True]\n",
      " [ True  True  True  True  True  True]\n",
      " [ True  True  True  True  True  True]\n",
      " [ True  True  True  True  True  True]\n",
      " [ True  True  True  True  True  True]]\n"
     ]
    }
   ],
   "execution_count": 993
  },
  {
   "metadata": {
    "ExecuteTime": {
     "end_time": "2025-09-16T04:38:02.921716Z",
     "start_time": "2025-09-16T04:38:02.919991Z"
    }
   },
   "cell_type": "code",
   "source": "cg",
   "id": "af47882d6eeab18d",
   "outputs": [
    {
     "data": {
      "text/plain": [
       "<function scipy.sparse.linalg._isolve.iterative.cg(A, b, x0=None, *, rtol=1e-05, atol=0.0, maxiter=None, M=None, callback=None)>"
      ]
     },
     "execution_count": 994,
     "metadata": {},
     "output_type": "execute_result"
    }
   ],
   "execution_count": 994
  },
  {
   "metadata": {
    "ExecuteTime": {
     "end_time": "2025-09-16T04:38:02.947019Z",
     "start_time": "2025-09-16T04:38:02.944954Z"
    }
   },
   "cell_type": "code",
   "source": "np.fft.fft(a)",
   "id": "9a33a0df8fdf37a9",
   "outputs": [
    {
     "data": {
      "text/plain": [
       "array([[18.+0.j,  0.+0.j,  0.+0.j,  0.+0.j,  0.+0.j,  0.+0.j],\n",
       "       [18.+0.j,  0.+0.j,  0.+0.j,  0.+0.j,  0.+0.j,  0.+0.j],\n",
       "       [18.+0.j,  0.+0.j,  0.+0.j,  0.+0.j,  0.+0.j,  0.+0.j],\n",
       "       [18.+0.j,  0.+0.j,  0.+0.j,  0.+0.j,  0.+0.j,  0.+0.j],\n",
       "       [18.+0.j,  0.+0.j,  0.+0.j,  0.+0.j,  0.+0.j,  0.+0.j],\n",
       "       [18.+0.j,  0.+0.j,  0.+0.j,  0.+0.j,  0.+0.j,  0.+0.j],\n",
       "       [18.+0.j,  0.+0.j,  0.+0.j,  0.+0.j,  0.+0.j,  0.+0.j],\n",
       "       [18.+0.j,  0.+0.j,  0.+0.j,  0.+0.j,  0.+0.j,  0.+0.j],\n",
       "       [18.+0.j,  0.+0.j,  0.+0.j,  0.+0.j,  0.+0.j,  0.+0.j],\n",
       "       [18.+0.j,  0.+0.j,  0.+0.j,  0.+0.j,  0.+0.j,  0.+0.j]])"
      ]
     },
     "execution_count": 995,
     "metadata": {},
     "output_type": "execute_result"
    }
   ],
   "execution_count": 995
  },
  {
   "metadata": {
    "ExecuteTime": {
     "end_time": "2025-09-16T04:38:02.998396Z",
     "start_time": "2025-09-16T04:38:02.996471Z"
    }
   },
   "cell_type": "code",
   "source": "np.fft.ifft(a)",
   "id": "c0268ea198920f84",
   "outputs": [
    {
     "data": {
      "text/plain": [
       "array([[3.+0.j, 0.+0.j, 0.+0.j, 0.+0.j, 0.+0.j, 0.+0.j],\n",
       "       [3.+0.j, 0.+0.j, 0.+0.j, 0.+0.j, 0.+0.j, 0.+0.j],\n",
       "       [3.+0.j, 0.+0.j, 0.+0.j, 0.+0.j, 0.+0.j, 0.+0.j],\n",
       "       [3.+0.j, 0.+0.j, 0.+0.j, 0.+0.j, 0.+0.j, 0.+0.j],\n",
       "       [3.+0.j, 0.+0.j, 0.+0.j, 0.+0.j, 0.+0.j, 0.+0.j],\n",
       "       [3.+0.j, 0.+0.j, 0.+0.j, 0.+0.j, 0.+0.j, 0.+0.j],\n",
       "       [3.+0.j, 0.+0.j, 0.+0.j, 0.+0.j, 0.+0.j, 0.+0.j],\n",
       "       [3.+0.j, 0.+0.j, 0.+0.j, 0.+0.j, 0.+0.j, 0.+0.j],\n",
       "       [3.+0.j, 0.+0.j, 0.+0.j, 0.+0.j, 0.+0.j, 0.+0.j],\n",
       "       [3.+0.j, 0.+0.j, 0.+0.j, 0.+0.j, 0.+0.j, 0.+0.j]])"
      ]
     },
     "execution_count": 996,
     "metadata": {},
     "output_type": "execute_result"
    }
   ],
   "execution_count": 996
  },
  {
   "metadata": {
    "ExecuteTime": {
     "end_time": "2025-09-16T04:38:03.113297Z",
     "start_time": "2025-09-16T04:38:03.111379Z"
    }
   },
   "cell_type": "code",
   "source": "np.sort(a)",
   "id": "61562dbdc52aca3d",
   "outputs": [
    {
     "data": {
      "text/plain": [
       "array([[3, 3, 3, 3, 3, 3],\n",
       "       [3, 3, 3, 3, 3, 3],\n",
       "       [3, 3, 3, 3, 3, 3],\n",
       "       [3, 3, 3, 3, 3, 3],\n",
       "       [3, 3, 3, 3, 3, 3],\n",
       "       [3, 3, 3, 3, 3, 3],\n",
       "       [3, 3, 3, 3, 3, 3],\n",
       "       [3, 3, 3, 3, 3, 3],\n",
       "       [3, 3, 3, 3, 3, 3],\n",
       "       [3, 3, 3, 3, 3, 3]])"
      ]
     },
     "execution_count": 997,
     "metadata": {},
     "output_type": "execute_result"
    }
   ],
   "execution_count": 997
  },
  {
   "metadata": {
    "ExecuteTime": {
     "end_time": "2025-09-16T04:38:03.189064Z",
     "start_time": "2025-09-16T04:38:03.187537Z"
    }
   },
   "cell_type": "code",
   "source": "a.sort(axis=0)",
   "id": "9cf7f6ae45338918",
   "outputs": [],
   "execution_count": 998
  },
  {
   "metadata": {
    "ExecuteTime": {
     "end_time": "2025-09-16T04:38:03.265445Z",
     "start_time": "2025-09-16T04:38:03.263566Z"
    }
   },
   "cell_type": "code",
   "source": "np.sort(a, axis=1)",
   "id": "5b1f5b4acc0e4adb",
   "outputs": [
    {
     "data": {
      "text/plain": [
       "array([[3, 3, 3, 3, 3, 3],\n",
       "       [3, 3, 3, 3, 3, 3],\n",
       "       [3, 3, 3, 3, 3, 3],\n",
       "       [3, 3, 3, 3, 3, 3],\n",
       "       [3, 3, 3, 3, 3, 3],\n",
       "       [3, 3, 3, 3, 3, 3],\n",
       "       [3, 3, 3, 3, 3, 3],\n",
       "       [3, 3, 3, 3, 3, 3],\n",
       "       [3, 3, 3, 3, 3, 3],\n",
       "       [3, 3, 3, 3, 3, 3]])"
      ]
     },
     "execution_count": 999,
     "metadata": {},
     "output_type": "execute_result"
    }
   ],
   "execution_count": 999
  },
  {
   "metadata": {
    "ExecuteTime": {
     "end_time": "2025-09-16T04:38:03.309855Z",
     "start_time": "2025-09-16T04:38:03.307981Z"
    }
   },
   "cell_type": "code",
   "source": [
    "I = np.argsort(a[:, 0]); b = a[I,:]\n",
    "I"
   ],
   "id": "2384db3899b80e3a",
   "outputs": [
    {
     "data": {
      "text/plain": [
       "array([0, 1, 2, 3, 4, 5, 6, 7, 8, 9])"
      ]
     },
     "execution_count": 1000,
     "metadata": {},
     "output_type": "execute_result"
    }
   ],
   "execution_count": 1000
  },
  {
   "metadata": {
    "ExecuteTime": {
     "end_time": "2025-09-16T04:38:03.387806Z",
     "start_time": "2025-09-16T04:38:03.386060Z"
    }
   },
   "cell_type": "code",
   "source": [
    "Z = np.random.rand(12, 3)\n",
    "z, *_ = linalg.lstsq(Z, y)\n",
    "print(\"Solution z:\\n\", z)"
   ],
   "id": "12f298126b70f4ca",
   "outputs": [
    {
     "name": "stdout",
     "output_type": "stream",
     "text": [
      "Solution z:\n",
      " [ 8.72320072  7.19998401 -3.82541244]\n"
     ]
    }
   ],
   "execution_count": 1001
  },
  {
   "metadata": {
    "ExecuteTime": {
     "end_time": "2025-09-16T04:38:03.417781Z",
     "start_time": "2025-09-16T04:38:03.415501Z"
    }
   },
   "cell_type": "code",
   "source": [
    "x = np.linspace(0, 1, 20)\n",
    "q = 2\n",
    "signal.resample(x, int(np.ceil(len(x) / q)))"
   ],
   "id": "bcff06d06244d090",
   "outputs": [
    {
     "data": {
      "text/plain": [
       "array([0.23684211, 0.06243413, 0.218361  , 0.32362416, 0.40307287,\n",
       "       0.55263158, 0.59692713, 0.781639  , 0.781639  , 1.04282903])"
      ]
     },
     "execution_count": 1002,
     "metadata": {},
     "output_type": "execute_result"
    }
   ],
   "execution_count": 1002
  },
  {
   "metadata": {
    "ExecuteTime": {
     "end_time": "2025-09-16T04:38:03.446168Z",
     "start_time": "2025-09-16T04:38:03.444126Z"
    }
   },
   "cell_type": "code",
   "source": "np.unique(a)",
   "id": "99b0c3067deda2ae",
   "outputs": [
    {
     "data": {
      "text/plain": [
       "array([3])"
      ]
     },
     "execution_count": 1003,
     "metadata": {},
     "output_type": "execute_result"
    }
   ],
   "execution_count": 1003
  },
  {
   "metadata": {
    "ExecuteTime": {
     "end_time": "2025-09-16T04:38:03.461333Z",
     "start_time": "2025-09-16T04:38:03.459093Z"
    }
   },
   "cell_type": "code",
   "source": "a.squeeze()",
   "id": "fd7fa6613d35fd3",
   "outputs": [
    {
     "data": {
      "text/plain": [
       "array([[3, 3, 3, 3, 3, 3],\n",
       "       [3, 3, 3, 3, 3, 3],\n",
       "       [3, 3, 3, 3, 3, 3],\n",
       "       [3, 3, 3, 3, 3, 3],\n",
       "       [3, 3, 3, 3, 3, 3],\n",
       "       [3, 3, 3, 3, 3, 3],\n",
       "       [3, 3, 3, 3, 3, 3],\n",
       "       [3, 3, 3, 3, 3, 3],\n",
       "       [3, 3, 3, 3, 3, 3],\n",
       "       [3, 3, 3, 3, 3, 3]])"
      ]
     },
     "execution_count": 1004,
     "metadata": {},
     "output_type": "execute_result"
    }
   ],
   "execution_count": 1004
  },
  {
   "metadata": {},
   "cell_type": "markdown",
   "source": "## TASK 3",
   "id": "b078ce3d75d661a8"
  },
  {
   "metadata": {
    "ExecuteTime": {
     "end_time": "2025-09-16T04:38:03.549612Z",
     "start_time": "2025-09-16T04:38:03.499254Z"
    }
   },
   "cell_type": "code",
   "source": [
    "import matplotlib.pyplot as plt\n",
    "plt.plot([1,2,3,4], [1,2,7,14])\n",
    "plt.axis([0, 6, 0, 20])\n",
    "plt.show()"
   ],
   "id": "ab868878acdc0e73",
   "outputs": [
    {
     "data": {
      "text/plain": [
       "<Figure size 640x480 with 1 Axes>"
      ],
      "image/png": "[encoded data removed]"
     },
     "metadata": {},
     "output_type": "display_data",
     "jetTransient": {
      "display_id": null
     }
    }
   ],
   "execution_count": 1005
  },
  {
   "metadata": {
    "ExecuteTime": {
     "end_time": "2025-09-16T04:38:03.622523Z",
     "start_time": "2025-09-16T04:38:03.583065Z"
    }
   },
   "cell_type": "code",
   "source": [
    "import matplotlib . pyplot as plt\n",
    "x = np . linspace (0 , 2* np . pi , 100)\n",
    "plt . plot (x , np . sin ( x ) )\n",
    "plt . show ()"
   ],
   "id": "9bf1c0976f6031f5",
   "outputs": [
    {
     "data": {
      "text/plain": [
       "<Figure size 640x480 with 1 Axes>"
      ],
      "image/png": "[encoded data removed]"
     },
     "metadata": {},
     "output_type": "display_data",
     "jetTransient": {
      "display_id": null
     }
    }
   ],
   "execution_count": 1006
  }
 ],
 "metadata": {
  "kernelspec": {
   "display_name": "Python 3",
   "language": "python",
   "name": "python3"
  },
  "language_info": {
   "codemirror_mode": {
    "name": "ipython",
    "version": 2
   },
   "file_extension": ".py",
   "mimetype": "text/x-python",
   "name": "python",
   "nbconvert_exporter": "python",
   "pygments_lexer": "ipython2",
   "version": "2.7.6"
  }
 },
 "nbformat": 4,
 "nbformat_minor": 5
}
